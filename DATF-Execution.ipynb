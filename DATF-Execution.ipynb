{
 "cells": [
  {
   "cell_type": "code",
   "execution_count": 0,
   "metadata": {
    "application/vnd.databricks.v1+cell": {
     "cellMetadata": {
      "byteLimit": 2048000,
      "rowLimit": 10000
     },
     "inputWidgets": {},
     "nuid": "db2f7345-8158-4201-b528-563ffc0132b5",
     "showTitle": false,
     "title": ""
    }
   },
   "outputs": [],
   "source": [
    "dbutils.widgets.text('test_protocol_name', 'contenttestprotocol')\n",
    "dbutils.widgets.dropdown(\"test_type\", \"count\", ['count', 'duplicate', 'content'])\n",
    "dbutils.widgets.text('test_names', 'all')\n",
    "dbutils.widgets.text('work_path', '/Workspace/Repos/sahil.gupta@tigeranalytics.com/QE_ATF/datf_core/')"
   ]
  },
  {
   "cell_type": "code",
   "execution_count": 0,
   "metadata": {
    "application/vnd.databricks.v1+cell": {
     "cellMetadata": {
      "byteLimit": 2048000,
      "rowLimit": 10000
     },
     "inputWidgets": {},
     "nuid": "32e7190d-f902-4107-b296-5ad0b7d4b5ad",
     "showTitle": false,
     "title": ""
    }
   },
   "outputs": [
    {
     "output_type": "stream",
     "name": "stdout",
     "output_type": "stream",
     "text": [
      "\u001B[43mNote: you may need to restart the kernel using %restart_python or dbutils.library.restartPython() to use updated packages.\u001B[0m\nRequirement already satisfied: pip in /local_disk0/.ephemeral_nfs/envs/pythonEnv-7f1c133d-4009-48d0-bf7a-e894c489d1cc/lib/python3.11/site-packages (23.2.1)\nCollecting pip\n  Obtaining dependency information for pip from https://files.pythonhosted.org/packages/d4/55/90db48d85f7689ec6f81c0db0622d704306c5284850383c090e6c7195a5c/pip-24.2-py3-none-any.whl.metadata\n  Downloading pip-24.2-py3-none-any.whl.metadata (3.6 kB)\nDownloading pip-24.2-py3-none-any.whl (1.8 MB)\n\u001B[?25l   \u001B[90m━━━━━━━━━━━━━━━━━━━━━━━━━━━━━━━━━━━━━━━━\u001B[0m \u001B[32m0.0/1.8 MB\u001B[0m \u001B[31m?\u001B[0m eta \u001B[36m-:--:--\u001B[0m\n\u001B[2K   \u001B[91m━━━━━━━━━━━━━━━━━━━━━━━━━━━━━━━━━━━━━━━\u001B[0m\u001B[91m╸\u001B[0m \u001B[32m1.8/1.8 MB\u001B[0m \u001B[31m57.9 MB/s\u001B[0m eta \u001B[36m0:00:01\u001B[0m\n\u001B[2K   \u001B[90m━━━━━━━━━━━━━━━━━━━━━━━━━━━━━━━━━━━━━━━━\u001B[0m \u001B[32m1.8/1.8 MB\u001B[0m \u001B[31m31.4 MB/s\u001B[0m eta \u001B[36m0:00:00\u001B[0m\n\u001B[?25hInstalling collected packages: pip\n  Attempting uninstall: pip\n    Found existing installation: pip 23.2.1\n    Uninstalling pip-23.2.1:\n      Successfully uninstalled pip-23.2.1\nSuccessfully installed pip-24.2\n\u001B[43mNote: you may need to restart the kernel using %restart_python or dbutils.library.restartPython() to use updated packages.\u001B[0m\nCollecting datacompy[spark]\r\n  Downloading datacompy-0.13.2-py3-none-any.whl.metadata (7.9 kB)\r\nRequirement already satisfied: pandas<=2.2.2,>=0.25.0 in /databricks/python3/lib/python3.11/site-packages (from datacompy[spark]) (1.5.3)\r\nRequirement already satisfied: numpy<=1.26.4,>=1.22.0 in /databricks/python3/lib/python3.11/site-packages (from datacompy[spark]) (1.23.5)\r\nCollecting ordered-set<=4.1.0,>=4.0.2 (from datacompy[spark])\r\n  Downloading ordered_set-4.1.0-py3-none-any.whl.metadata (5.3 kB)\r\nCollecting fugue<=0.9.1,>=0.8.7 (from datacompy[spark])\r\n  Downloading fugue-0.9.1-py3-none-any.whl.metadata (18 kB)\r\nCollecting polars<=0.20.31,>=0.20.4 (from datacompy[spark])\r\n  Downloading polars-0.20.31-cp38-abi3-manylinux_2_17_x86_64.manylinux2014_x86_64.whl.metadata (14 kB)\r\nCollecting pyspark>=3.4 (from pyspark[connect]>=3.4; python_version >= \"3.11\" and extra == \"spark\"->datacompy[spark])\r\n  Downloading pyspark-3.5.2.tar.gz (317.3 MB)\r\n\u001B[?25l     \u001B[90m━━━━━━━━━━━━━━━━━━━━━━━━━━━━━━━━━━━━━━━━\u001B[0m \u001B[32m0.0/317.3 MB\u001B[0m \u001B[31m?\u001B[0m eta \u001B[36m-:--:--\u001B[0m\r\u001B[2K     \u001B[91m━━━━━━\u001B[0m\u001B[91m╸\u001B[0m\u001B[90m━━━━━━━━━━━━━━━━━━━━━━━━━━━━━━━\u001B[0m \u001B[32m56.4/317.3 MB\u001B[0m \u001B[31m307.9 MB/s\u001B[0m eta \u001B[36m0:00:01\u001B[0m\r\u001B[2K     \u001B[91m━━━━━━━━━━━━━━━\u001B[0m\u001B[90m╺\u001B[0m\u001B[90m━━━━━━━━━━━━━━━━━━━━━\u001B[0m \u001B[32m132.9/317.3 MB\u001B[0m \u001B[31m345.5 MB/s\u001B[0m eta \u001B[36m0:00:01\u001B[0m\r\u001B[2K     \u001B[91m━━━━━━━━━━━━━━━━━━━━━━━━━\u001B[0m\u001B[90m╺\u001B[0m\u001B[90m━━━━━━━━━━━\u001B[0m \u001B[32m217.1/317.3 MB\u001B[0m \u001B[31m370.2 MB/s\u001B[0m eta \u001B[36m0:00:01\u001B[0m\r\u001B[2K     \u001B[91m━━━━━━━━━━━━━━━━━━━━━━━━━━━━━━━━━━━\u001B[0m\u001B[90m╺\u001B[0m\u001B[90m━\u001B[0m \u001B[32m300.7/317.3 MB\u001B[0m \u001B[31m400.2 MB/s\u001B[0m eta \u001B[36m0:00:01\u001B[0m\r\u001B[2K     \u001B[91m━━━━━━━━━━━━━━━━━━━━━━━━━━━━━━━━━━━━\u001B[0m\u001B[91m╸\u001B[0m \u001B[32m317.2/317.3 MB\u001B[0m \u001B[31m396.8 MB/s\u001B[0m eta \u001B[36m0:00:01\u001B[0m\r\u001B[2K     \u001B[91m━━━━━━━━━━━━━━━━━━━━━━━━━━━━━━━━━━━━\u001B[0m\u001B[91m╸\u001B[0m \u001B[32m317.2/317.3 MB\u001B[0m \u001B[31m396.8 MB/s\u001B[0m eta \u001B[36m0:00:01\u001B[0m\r\u001B[2K     \u001B[91m━━━━━━━━━━━━━━━━━━━━━━━━━━━━━━━━━━━━\u001B[0m\u001B[91m╸\u001B[0m \u001B[32m317.2/317.3 MB\u001B[0m \u001B[31m396.8 MB/s\u001B[0m eta \u001B[36m0:00:01\u001B[0m\r\u001B[2K     \u001B[91m━━━━━━━━━━━━━━━━━━━━━━━━━━━━━━━━━━━━\u001B[0m\u001B[91m╸\u001B[0m \u001B[32m317.2/317.3 MB\u001B[0m \u001B[31m396.8 MB/s\u001B[0m eta \u001B[36m0:00:01\u001B[0m\r\u001B[2K     \u001B[91m━━━━━━━━━━━━━━━━━━━━━━━━━━━━━━━━━━━━\u001B[0m\u001B[91m╸\u001B[0m \u001B[32m317.2/317.3 MB\u001B[0m \u001B[31m396.8 MB/s\u001B[0m eta \u001B[36m0:00:01\u001B[0m\r\u001B[2K     \u001B[91m━━━━━━━━━━━━━━━━━━━━━━━━━━━━━━━━━━━━\u001B[0m\u001B[91m╸\u001B[0m \u001B[32m317.2/317.3 MB\u001B[0m \u001B[31m396.8 MB/s\u001B[0m eta \u001B[36m0:00:01\u001B[0m\r\u001B[2K     \u001B[91m━━━━━━━━━━━━━━━━━━━━━━━━━━━━━━━━━━━━\u001B[0m\u001B[91m╸\u001B[0m \u001B[32m317.2/317.3 MB\u001B[0m \u001B[31m396.8 MB/s\u001B[0m eta \u001B[36m0:00:01\u001B[0m\r\u001B[2K     \u001B[91m━━━━━━━━━━━━━━━━━━━━━━━━━━━━━━━━━━━━\u001B[0m\u001B[91m╸\u001B[0m \u001B[32m317.2/317.3 MB\u001B[0m \u001B[31m396.8 MB/s\u001B[0m eta \u001B[36m0:00:01\u001B[0m\r\u001B[2K     \u001B[91m━━━━━━━━━━━━━━━━━━━━━━━━━━━━━━━━━━━━\u001B[0m\u001B[91m╸\u001B[0m \u001B[32m317.2/317.3 MB\u001B[0m \u001B[31m396.8 MB/s\u001B[0m eta \u001B[36m0:00:01\u001B[0m\r\u001B[2K     \u001B[91m━━━━━━━━━━━━━━━━━━━━━━━━━━━━━━━━━━━━\u001B[0m\u001B[91m╸\u001B[0m \u001B[32m317.2/317.3 MB\u001B[0m \u001B[31m396.8 MB/s\u001B[0m eta \u001B[36m0:00:01\u001B[0m\r\u001B[2K     \u001B[91m━━━━━━━━━━━━━━━━━━━━━━━━━━━━━━━━━━━━\u001B[0m\u001B[91m╸\u001B[0m \u001B[32m317.2/317.3 MB\u001B[0m \u001B[31m396.8 MB/s\u001B[0m eta \u001B[36m0:00:01\u001B[0m\r\u001B[2K     \u001B[91m━━━━━━━━━━━━━━━━━━━━━━━━━━━━━━━━━━━━\u001B[0m\u001B[91m╸\u001B[0m \u001B[32m317.2/317.3 MB\u001B[0m \u001B[31m396.8 MB/s\u001B[0m eta \u001B[36m0:00:01\u001B[0m\r\u001B[2K     \u001B[91m━━━━━━━━━━━━━━━━━━━━━━━━━━━━━━━━━━━━\u001B[0m\u001B[91m╸\u001B[0m \u001B[32m317.2/317.3 MB\u001B[0m \u001B[31m396.8 MB/s\u001B[0m eta \u001B[36m0:00:01\u001B[0m\r\u001B[2K     \u001B[91m━━━━━━━━━━━━━━━━━━━━━━━━━━━━━━━━━━━━\u001B[0m\u001B[91m╸\u001B[0m \u001B[32m317.2/317.3 MB\u001B[0m \u001B[31m396.8 MB/s\u001B[0m eta \u001B[36m0:00:01\u001B[0m\r\u001B[2K     \u001B[91m━━━━━━━━━━━━━━━━━━━━━━━━━━━━━━━━━━━━\u001B[0m\u001B[91m╸\u001B[0m \u001B[32m317.2/317.3 MB\u001B[0m \u001B[31m396.8 MB/s\u001B[0m eta \u001B[36m0:00:01\u001B[0m\r\u001B[2K     \u001B[91m━━━━━━━━━━━━━━━━━━━━━━━━━━━━━━━━━━━━\u001B[0m\u001B[91m╸\u001B[0m \u001B[32m317.2/317.3 MB\u001B[0m \u001B[31m396.8 MB/s\u001B[0m eta \u001B[36m0:00:01\u001B[0m\r\u001B[2K     \u001B[91m━━━━━━━━━━━━━━━━━━━━━━━━━━━━━━━━━━━━\u001B[0m\u001B[91m╸\u001B[0m \u001B[32m317.2/317.3 MB\u001B[0m \u001B[31m396.8 MB/s\u001B[0m eta \u001B[36m0:00:01\u001B[0m\r\u001B[2K     \u001B[91m━━━━━━━━━━━━━━━━━━━━━━━━━━━━━━━━━━━━\u001B[0m\u001B[91m╸\u001B[0m \u001B[32m317.2/317.3 MB\u001B[0m \u001B[31m396.8 MB/s\u001B[0m eta \u001B[36m0:00:01\u001B[0m\r\u001B[2K     \u001B[91m━━━━━━━━━━━━━━━━━━━━━━━━━━━━━━━━━━━━\u001B[0m\u001B[91m╸\u001B[0m \u001B[32m317.2/317.3 MB\u001B[0m \u001B[31m396.8 MB/s\u001B[0m eta \u001B[36m0:00:01\u001B[0m\r\u001B[2K     \u001B[91m━━━━━━━━━━━━━━━━━━━━━━━━━━━━━━━━━━━━\u001B[0m\u001B[91m╸\u001B[0m \u001B[32m317.2/317.3 MB\u001B[0m \u001B[31m396.8 MB/s\u001B[0m eta \u001B[36m0:00:01\u001B[0m\r\u001B[2K     \u001B[90m━━━━━━━━━━━━━━━━━━━━━━━━━━━━━━━━━━━━━━\u001B[0m \u001B[32m317.3/317.3 MB\u001B[0m \u001B[31m56.3 MB/s\u001B[0m eta \u001B[36m0:00:00\u001B[0m\r\n\u001B[?25h  Preparing metadata (setup.py) ... \u001B[?25l-\b \b\\\b \bdone\r\n\u001B[?25hCollecting triad>=0.9.7 (from fugue<=0.9.1,>=0.8.7->datacompy[spark])\r\n  Downloading triad-0.9.8-py3-none-any.whl.metadata (6.3 kB)\r\nCollecting adagio>=0.2.4 (from fugue<=0.9.1,>=0.8.7->datacompy[spark])\r\n  Downloading adagio-0.2.6-py3-none-any.whl.metadata (1.8 kB)\r\nRequirement already satisfied: python-dateutil>=2.8.1 in /databricks/python3/lib/python3.11/site-packages (from pandas<=2.2.2,>=0.25.0->datacompy[spark]) (2.8.2)\r\nRequirement already satisfied: pytz>=2020.1 in /databricks/python3/lib/python3.11/site-packages (from pandas<=2.2.2,>=0.25.0->datacompy[spark]) (2022.7)\r\nCollecting py4j==0.10.9.7 (from pyspark>=3.4->pyspark[connect]>=3.4; python_version >= \"3.11\" and extra == \"spark\"->datacompy[spark])\r\n  Downloading py4j-0.10.9.7-py2.py3-none-any.whl.metadata (1.5 kB)\r\nRequirement already satisfied: pyarrow>=4.0.0 in /databricks/python3/lib/python3.11/site-packages (from pyspark[connect]>=3.4; python_version >= \"3.11\" and extra == \"spark\"->datacompy[spark]) (14.0.1)\r\nRequirement already satisfied: grpcio>=1.56.0 in /databricks/python3/lib/python3.11/site-packages (from pyspark[connect]>=3.4; python_version >= \"3.11\" and extra == \"spark\"->datacompy[spark]) (1.60.0)\r\nRequirement already satisfied: grpcio-status>=1.56.0 in /databricks/python3/lib/python3.11/site-packages (from pyspark[connect]>=3.4; python_version >= \"3.11\" and extra == \"spark\"->datacompy[spark]) (1.60.0)\r\nRequirement already satisfied: googleapis-common-protos>=1.56.4 in /databricks/python3/lib/python3.11/site-packages (from pyspark[connect]>=3.4; python_version >= \"3.11\" and extra == \"spark\"->datacompy[spark]) (1.63.0)\r\nRequirement already satisfied: protobuf!=3.20.0,!=3.20.1,!=4.21.1,!=4.21.2,!=4.21.3,!=4.21.4,!=4.21.5,<5.0.0.dev0,>=3.19.5 in /databricks/python3/lib/python3.11/site-packages (from googleapis-common-protos>=1.56.4->pyspark[connect]>=3.4; python_version >= \"3.11\" and extra == \"spark\"->datacompy[spark]) (4.24.1)\r\nRequirement already satisfied: six>=1.5 in /usr/lib/python3/dist-packages (from python-dateutil>=2.8.1->pandas<=2.2.2,>=0.25.0->datacompy[spark]) (1.16.0)\r\nCollecting fsspec>=2022.5.0 (from triad>=0.9.7->fugue<=0.9.1,>=0.8.7->datacompy[spark])\r\n  Downloading fsspec-2024.9.0-py3-none-any.whl.metadata (11 kB)\r\nCollecting fs (from triad>=0.9.7->fugue<=0.9.1,>=0.8.7->datacompy[spark])\r\n  Downloading fs-2.4.16-py2.py3-none-any.whl.metadata (6.3 kB)\r\nCollecting appdirs~=1.4.3 (from fs->triad>=0.9.7->fugue<=0.9.1,>=0.8.7->datacompy[spark])\r\n  Downloading appdirs-1.4.4-py2.py3-none-any.whl.metadata (9.0 kB)\r\nRequirement already satisfied: setuptools in /databricks/python3/lib/python3.11/site-packages (from fs->triad>=0.9.7->fugue<=0.9.1,>=0.8.7->datacompy[spark]) (68.0.0)\r\nDownloading fugue-0.9.1-py3-none-any.whl (278 kB)\r\nDownloading ordered_set-4.1.0-py3-none-any.whl (7.6 kB)\r\nDownloading polars-0.20.31-cp38-abi3-manylinux_2_17_x86_64.manylinux2014_x86_64.whl (28.8 MB)\r\n\u001B[?25l   \u001B[90m━━━━━━━━━━━━━━━━━━━━━━━━━━━━━━━━━━━━━━━━\u001B[0m \u001B[32m0.0/28.8 MB\u001B[0m \u001B[31m?\u001B[0m eta \u001B[36m-:--:--\u001B[0m\r\u001B[2K   \u001B[91m━━━━━━━━━━━━━━━━━━━━━━━━━━━━━━━━━━━━━━━\u001B[0m\u001B[91m╸\u001B[0m \u001B[32m28.6/28.8 MB\u001B[0m \u001B[31m362.9 MB/s\u001B[0m eta \u001B[36m0:00:01\u001B[0m\r\u001B[2K   \u001B[91m━━━━━━━━━━━━━━━━━━━━━━━━━━━━━━━━━━━━━━━\u001B[0m\u001B[91m╸\u001B[0m \u001B[32m28.6/28.8 MB\u001B[0m \u001B[31m362.9 MB/s\u001B[0m eta \u001B[36m0:00:01\u001B[0m\r\u001B[2K   \u001B[91m━━━━━━━━━━━━━━━━━━━━━━━━━━━━━━━━━━━━━━━\u001B[0m\u001B[91m╸\u001B[0m \u001B[32m28.6/28.8 MB\u001B[0m \u001B[31m362.9 MB/s\u001B[0m eta \u001B[36m0:00:01\u001B[0m\r\u001B[2K   \u001B[90m━━━━━━━━━━━━━━━━━━━━━━━━━━━━━━━━━━━━━━━━\u001B[0m \u001B[32m28.8/28.8 MB\u001B[0m \u001B[31m40.7 MB/s\u001B[0m eta \u001B[36m0:00:00\u001B[0m\r\n\u001B[?25hDownloading py4j-0.10.9.7-py2.py3-none-any.whl (200 kB)\r\nDownloading datacompy-0.13.2-py3-none-any.whl (60 kB)\r\nDownloading adagio-0.2.6-py3-none-any.whl (19 kB)\r\nDownloading triad-0.9.8-py3-none-any.whl (62 kB)\r\nDownloading fsspec-2024.9.0-py3-none-any.whl (179 kB)\r\nDownloading fs-2.4.16-py2.py3-none-any.whl (135 kB)\r\nDownloading appdirs-1.4.4-py2.py3-none-any.whl (9.6 kB)\r\nBuilding wheels for collected packages: pyspark\r\n  Building wheel for pyspark (setup.py) ... \u001B[?25l-\b \b\\\b \b|\b \b/\b \b-\b \b\\\b \b|\b \b/\b \b-\b \b\\\b \b|\b \b/\b \b-\b \b\\\b \b|\b \b/\b \b-\b \b\\\b \b|\b \b/\b \b-\b \b\\\b \b|\b \b/\b \b-\b \b\\\b \b|\b \b/\b \b-\b \b\\\b \b|\b \b/\b \b-\b \b\\\b \b|\b \b/\b \b-\b \b\\\b \b|\b \b/\b \b-\b \b\\\b \b|\b \b/\b \b-\b \b\\\b \b|\b \b/\b \b-\b \b\\\b \b|\b \b/\b \b-\b \b\\\b \b|\b \b/\b \b-\b \b\\\b \b|\b \b/\b \bdone\r\n\u001B[?25h  Created wheel for pyspark: filename=pyspark-3.5.2-py2.py3-none-any.whl size=317812371 sha256=580ad69abeeed6d9bc8559ca56d834fa21ac69a16146538dc46bc903fa17e431\r\n  Stored in directory: /root/.cache/pip/wheels/9d/29/ee/3a756632ca3f0a6870933bac1c9db6e4af2c068f019aba0ee1\r\nSuccessfully built pyspark\r\nInstalling collected packages: py4j, appdirs, pyspark, polars, ordered-set, fsspec, fs, triad, adagio, fugue, datacompy\r\nSuccessfully installed adagio-0.2.6 appdirs-1.4.4 datacompy-0.13.2 fs-2.4.16 fsspec-2024.9.0 fugue-0.9.1 ordered-set-4.1.0 polars-0.20.31 py4j-0.10.9.7 pyspark-3.5.2 triad-0.9.8\r\nCollecting fpdf\r\n  Downloading fpdf-1.7.2.tar.gz (39 kB)\r\n  Preparing metadata (setup.py) ... \u001B[?25l-\b \bdone\r\n\u001B[?25hBuilding wheels for collected packages: fpdf\r\n  Building wheel for fpdf (setup.py) ... \u001B[?25l-\b \b\\\b \bdone\r\n\u001B[?25h  Created wheel for fpdf: filename=fpdf-1.7.2-py2.py3-none-any.whl size=40702 sha256=dcb02c19eef1b82c29e67ee5125a52c98f6953ab25217c64d73db02990004910\r\n  Stored in directory: /root/.cache/pip/wheels/65/4f/66/bbda9866da446a72e206d6484cd97381cbc7859a7068541c36\r\nSuccessfully built fpdf\r\nInstalling collected packages: fpdf\r\nSuccessfully installed fpdf-1.7.2\r\nCollecting openpyxl\r\n  Downloading openpyxl-3.1.5-py2.py3-none-any.whl.metadata (2.5 kB)\r\nCollecting et-xmlfile (from openpyxl)\r\n  Downloading et_xmlfile-1.1.0-py3-none-any.whl.metadata (1.8 kB)\r\nDownloading openpyxl-3.1.5-py2.py3-none-any.whl (250 kB)\r\nDownloading et_xmlfile-1.1.0-py3-none-any.whl (4.7 kB)\r\nInstalling collected packages: et-xmlfile, openpyxl\r\nSuccessfully installed et-xmlfile-1.1.0 openpyxl-3.1.5\r\nRequirement already satisfied: fsspec in /local_disk0/.ephemeral_nfs/envs/pythonEnv-7f1c133d-4009-48d0-bf7a-e894c489d1cc/lib/python3.11/site-packages (2024.9.0)\r\nCollecting pretty-html-table\r\n  Downloading pretty_html_table-0.9.16-py3-none-any.whl.metadata (8.5 kB)\r\nRequirement already satisfied: pandas in /databricks/python3/lib/python3.11/site-packages (from pretty-html-table) (1.5.3)\r\nRequirement already satisfied: python-dateutil>=2.8.1 in /databricks/python3/lib/python3.11/site-packages (from pandas->pretty-html-table) (2.8.2)\r\nRequirement already satisfied: pytz>=2020.1 in /databricks/python3/lib/python3.11/site-packages (from pandas->pretty-html-table) (2022.7)\r\nRequirement already satisfied: numpy>=1.21.0 in /databricks/python3/lib/python3.11/site-packages (from pandas->pretty-html-table) (1.23.5)\r\nRequirement already satisfied: six>=1.5 in /usr/lib/python3/dist-packages (from python-dateutil>=2.8.1->pandas->pretty-html-table) (1.16.0)\r\nDownloading pretty_html_table-0.9.16-py3-none-any.whl (6.8 kB)\r\nInstalling collected packages: pretty-html-table\r\nSuccessfully installed pretty-html-table-0.9.16\r\nCollecting tabulate\r\n  Downloading tabulate-0.9.0-py3-none-any.whl.metadata (34 kB)\r\nDownloading tabulate-0.9.0-py3-none-any.whl (35 kB)\r\nInstalling collected packages: tabulate\r\nSuccessfully installed tabulate-0.9.0\r\nRequirement already satisfied: cryptography in /databricks/python3/lib/python3.11/site-packages (41.0.3)\r\nRequirement already satisfied: cffi>=1.12 in /databricks/python3/lib/python3.11/site-packages (from cryptography) (1.15.1)\r\nRequirement already satisfied: pycparser in /databricks/python3/lib/python3.11/site-packages (from cffi>=1.12->cryptography) (2.21)\r\n"
     ]
    }
   ],
   "source": [
    "%python\n",
    "import os\n",
    "os.environ['CWD'] = dbutils.widgets.get('work_path')\n",
    "\n",
    "!pip install --upgrade pip\n",
    "#!$CWD/scripts/install.sh"
   ]
  },
  {
   "cell_type": "code",
   "execution_count": 0,
   "metadata": {
    "application/vnd.databricks.v1+cell": {
     "cellMetadata": {
      "byteLimit": 2048000,
      "rowLimit": 10000
     },
     "inputWidgets": {},
     "nuid": "894c466e-18a4-427e-b6c1-77e2cb7a782a",
     "showTitle": false,
     "title": ""
    }
   },
   "outputs": [],
   "source": [
    "dbutils.library.restartPython()"
   ]
  },
  {
   "cell_type": "code",
   "execution_count": 0,
   "metadata": {
    "application/vnd.databricks.v1+cell": {
     "cellMetadata": {
      "byteLimit": 2048000,
      "rowLimit": 10000
     },
     "inputWidgets": {},
     "nuid": "c2d4cbb8-031c-4097-8da2-04913eec799f",
     "showTitle": false,
     "title": ""
    }
   },
   "outputs": [
    {
     "output_type": "stream",
     "name": "stderr",
     "output_type": "stream",
     "text": [
      "/Workspace/Repos/sahil.gupta@tigeranalytics.com/QE_ATF/datf_core/src/s2ttester.py:14: DeprecationWarning: The module datacompy.spark.legacy is deprecated. In future versions LegacySparkCompare will be completely removed.\n  from datacompy.spark.legacy import LegacySparkCompare\n"
     ]
    },
    {
     "output_type": "stream",
     "name": "stdout",
     "output_type": "stream",
     "text": [
      "INFO [06-Sep-2024_05:26:18_UTC]: !!! Databricks Spark Session Acquired !!!\nINFO [06-Sep-2024_05:26:18_UTC]: <pyspark.sql.session.SparkSession object at 0x7f33d4d80d90>\nINFO [06-Sep-2024_05:26:18_UTC]: Protocol Config path :/Workspace/Repos/sahil.gupta@tigeranalytics.com/QE_ATF/datf_core//test/testprotocol/fewtestprotocol.xlsx\nINFO [06-Sep-2024_05:26:18_UTC]: TestType: content\nINFO [06-Sep-2024_05:26:18_UTC]: TestCasesRunList: ['testcase34_delta_parquet_auto']\nINFO [06-Sep-2024_05:26:18_UTC]: Protocol Execution Started\nINFO [06-Sep-2024_05:26:18_UTC]: Reading the Protocol file details from /Workspace/Repos/sahil.gupta@tigeranalytics.com/QE_ATF/datf_core//test/testprotocol/fewtestprotocol.xlsx\nINFO [06-Sep-2024_05:26:18_UTC]: dict protocol is\nINFO [06-Sep-2024_05:26:18_UTC]: {'protocol_name': 'DATFDemo', 'protocol_connection': 'multiple', 'protocol_results_path': 'test/results/', 'protocol_application_name': 'sample', 'protocol_run_environment': 'dev', 'protocol_version': 2, 'test_run_environment': ''}\nINFO [06-Sep-2024_05:26:18_UTC]: Protocol Result folder Path: /Workspace/Repos/sahil.gupta@tigeranalytics.com/QE_ATF/datf_core/test/results/DATFDemo/run_content_06_Sep_2024_05_26_18_UTC/\nINFO [06-Sep-2024_05:26:18_UTC]: Protocol Testcases Execution Started\nINFO [06-Sep-2024_05:26:18_UTC]: Test Case(s) part of current execution are:\n['testcase34_delta_parquet_auto']\nINFO [06-Sep-2024_05:26:18_UTC]: testcase31_delta_parquet_manual: Testcase Picked up for Execution\nINFO [06-Sep-2024_05:26:18_UTC]: The Test Case No.1 is not in run_test_cases param, skipping its execution\nINFO [06-Sep-2024_05:26:18_UTC]: testcase32_adls_parquet_to_delta_auto: Testcase Picked up for Execution\nINFO [06-Sep-2024_05:26:18_UTC]: The Test Case No.2 is not in run_test_cases param, skipping its execution\nINFO [06-Sep-2024_05:26:18_UTC]: testcase33_adls_parquet_adls_csv_auto: Testcase Picked up for Execution\nINFO [06-Sep-2024_05:26:18_UTC]: The Test Case No.3 is not in run_test_cases param, skipping its execution\nINFO [06-Sep-2024_05:26:18_UTC]: testcase34_delta_parquet_auto: Testcase Picked up for Execution\nINFO [06-Sep-2024_05:26:18_UTC]: testcase34_delta_parquet_auto: Reading Test Case Config at /Workspace/Repos/sahil.gupta@tigeranalytics.com/QE_ATF/datf_core/test/testcases/testcase34_delta_parquet_auto.xlsx\nINFO [06-Sep-2024_05:26:18_UTC]: testcase34_delta_parquet_auto: Reading Source and Target Data based on TestCase Configuration:  testcase34_delta_parquet_auto\n{'testcasename': 'testcase34_delta_parquet_auto', 'comparetype': 's2tcompare', 'testquerygenerationmode': 'Auto', 'sourcealiasname': '', 'sourceconnectionname': '', 'sourceconnectiontype': '', 'sourcefileformat': '', 'sourcefilepath': '', 'sourcefilename': '', 'sourcefilehasheader': '', 'sourcefiledelimiter': '', 'sourcefilter': '', 'sourceexcludecolumnlist': '', 'sourcequerymode': '', 'sourcequerysqlpath': '', 'sourcequerysqlfilename': '', 'targetaliasname': '', 'targetconnectionname': '', 'targetconnectiontype': '', 'targetfileformat': '', 'targetfilepath': '', 'targetfilename': '', 'targetfilehasheader': '', 'targetfiledelimiter': '', 'targetfilter': '', 'targetexcludecolumnlist': '', 'targetquerymode': '', 'targetquerysqlpath': '', 'targetquerysqlfilename': '', 's2tpath': 'test/s2t/s2t_34_delta_parquet_auto.xlsx', 's2tmappingsheet': 'source_to_target', 'samplelimit': 8, 'primarykey': 'Id_New'}\nINFO [06-Sep-2024_05:26:18_UTC]: Sample limit is 8\nINFO [06-Sep-2024_05:26:18_UTC]: Reading the S2T for Source Details located at /Workspace/Repos/sahil.gupta@tigeranalytics.com/QE_ATF/datf_core/test/s2t/s2t_34_delta_parquet_auto.xlsx\n<class 'pyspark.sql.session.SparkSession'>\nINFO [06-Sep-2024_05:26:20_UTC]: Reading the Source Data\nSELECT src.Id as Id_New, src.BIRTHDATE as BIRTHDATE, src.DEATHDATE as DEATHDATE, src.SSN as SSN, src.DRIVERS as DRIVERS, src.PASSPORT as PASSPORT, src.PREFIX as PREFIX, src.FIRST as FIRST, src.LAST as LAST, src.SUFFIX as SUFFIX, src.MAIDEN as MAIDEN, src.MARITAL as MARITAL, src.RACE as RACE, src.ETHNICITY as ETHNICITY, src.GENDER as GENDER, src.BIRTHPLACE as BIRTHPLACE, src.ADDRESS as ADDRESS, src.CITY as CITY, src.STATE as STATE, src.COUNTY as COUNTY, src.ZIP as ZIP, src.LAT as LAT, src.LON as LON, src.HEALTHCARE_EXPENSES as HEALTHCARE_EXPENSES, src.HEALTHCARE_COVERAGE as HEALTHCARE_COVERAGE FROM dataview src  \nroot\n |-- Id_New: string (nullable = true)\n |-- BIRTHDATE: date (nullable = true)\n |-- DEATHDATE: date (nullable = true)\n |-- SSN: string (nullable = true)\n |-- DRIVERS: string (nullable = true)\n |-- PASSPORT: string (nullable = true)\n |-- PREFIX: string (nullable = true)\n |-- FIRST: string (nullable = true)\n |-- LAST: string (nullable = true)\n |-- SUFFIX: string (nullable = true)\n |-- MAIDEN: string (nullable = true)\n |-- MARITAL: string (nullable = true)\n |-- RACE: string (nullable = true)\n |-- ETHNICITY: string (nullable = true)\n |-- GENDER: string (nullable = true)\n |-- BIRTHPLACE: string (nullable = true)\n |-- ADDRESS: string (nullable = true)\n |-- CITY: string (nullable = true)\n |-- STATE: string (nullable = true)\n |-- COUNTY: string (nullable = true)\n |-- ZIP: string (nullable = true)\n |-- LAT: double (nullable = true)\n |-- LON: double (nullable = true)\n |-- HEALTHCARE_EXPENSES: double (nullable = true)\n |-- HEALTHCARE_COVERAGE: double (nullable = true)\n\n+--------------------+----------+---------+-----------+---------+----------+------+---------------+--------------+------+-------------+-------+-----+-----------+------+--------------------+--------------------+-----------+-------------+----------------+-----+------------------+------------------+-------------------+-------------------+\n|              Id_New| BIRTHDATE|DEATHDATE|        SSN|  DRIVERS|  PASSPORT|PREFIX|          FIRST|          LAST|SUFFIX|       MAIDEN|MARITAL| RACE|  ETHNICITY|GENDER|          BIRTHPLACE|             ADDRESS|       CITY|        STATE|          COUNTY|  ZIP|               LAT|               LON|HEALTHCARE_EXPENSES|HEALTHCARE_COVERAGE|\n+--------------------+----------+---------+-----------+---------+----------+------+---------------+--------------+------+-------------+-------+-----+-----------+------+--------------------+--------------------+-----------+-------------+----------------+-----+------------------+------------------+-------------------+-------------------+\n|1d604da9-9a81-4ba...|1989-05-25|     NULL|999-76-6866|S99984236|X19277260X|   Mr.|José Eduardo181|      Gómez206|  NULL|         NULL|      M|white|   hispanic|     M|Marigot  Saint An...|427 Balistreri Wa...|   Chicopee|Massachusetts|  Hampden County|01013| 42.22835382315942|-72.56295055096882|          271227.08| 1334.8799999999999|\n|034e9e3b-2def-455...|1983-11-14|     NULL|999-73-5361|S99962402|X88275464X|   Mr.|        Milo271|       Feil794|  NULL|         NULL|      M|white|nonhispanic|     M|Danvers  Massachu...|422 Farrell Path ...| Somerville|Massachusetts|Middlesex County|02143| 42.36069732777065|-71.12653095133149|          793946.01|            3204.49|\n|10339b10-3cd1-4ac...|1992-06-02|     NULL|999-27-3385|S99972682|X73754411X|   Mr.|      Jayson808|      Fadel536|  NULL|         NULL|      M|white|nonhispanic|     M|Springfield  Mass...|1056 Harris Lane ...|   Chicopee|Massachusetts|  Hampden County|01020|42.181642300277424|-72.60884222581657|           574111.9| 2606.3999999999996|\n|8d4c4326-e9de-4f4...|1978-05-27|     NULL|999-85-4926|S99974448|X40915583X|  Mrs.|     Mariana775| Rutherford999|  NULL|Williamson769|      M|white|nonhispanic|     F|Yarmouth  Massach...|      999 Kuhn Forge|     Lowell|Massachusetts|Middlesex County|01851| 42.63614335069588| -71.3432549217789|           935630.3|  8756.189999999999|\n|f5dcd418-09fe-4a2...|1996-10-18|     NULL|999-60-7372|S99915787|X86772962X|   Mr.|    Gregorio366|        Auer97|  NULL|         NULL|   NULL|white|nonhispanic|     M|  Patras  Achaea  GR|1050 Lindgren Ext...|     Boston|Massachusetts|  Suffolk County|02135| 42.35243426303177|-71.02861042115062|          598763.07|             3772.2|\n|72c0b9ce-7aa4-430...|2017-07-27|     NULL|999-68-6630|     NULL|      NULL|  NULL|     Jacinto644|       Kris249|  NULL|         NULL|   NULL|white|nonhispanic|     M|Beverly  Massachu...|888 Hickle Ferry ...|Springfield|Massachusetts|  Hampden County|01106|42.151961474963535|-72.59895940376188|            8718.66|            1499.08|\n|b1e9b0b9-da6e-4f6...|2003-12-13|     NULL|999-73-2461|S99954048|      NULL|  NULL|       Jimmie93|     Harris789|  NULL|         NULL|   NULL|white|nonhispanic|     F|Worcester  Massac...|201 Mitchell Lodg...|   Pembroke|Massachusetts| Plymouth County| NULL| 42.07529152717956|-70.75703466334431|          397548.14|            3093.12|\n|01207ecd-9dff-475...|2019-05-15|     NULL|999-81-4349|     NULL|      NULL|  NULL|       Karyn217|    Mueller846|  NULL|         NULL|   NULL|white|nonhispanic|     F|New Bedford  Mass...|570 Abshire Forge...|    Colrain|Massachusetts| Franklin County| NULL|42.740219982868055|-72.72264767557297|            26400.0|  774.9599999999999|\n|b58731cc-2d8b-4c2...|1970-05-16|     NULL|999-90-2484|S99978036|X78170348X|  Mrs.|      Isabel214|      Lucio648|  NULL|  Carvajal694|      M|white|   hispanic|     F|Santiago  Santiag...|335 Morar Highlan...| Fall River|Massachusetts|  Bristol County|02720| 41.68768444527544| -71.0557687821624|          987310.04| 14166.009999999997|\n|cfee79fc-df05-476...|2016-07-04|     NULL|999-15-5895|     NULL|      NULL|  NULL|        Alva958|    Krajcik437|  NULL|         NULL|   NULL|white|nonhispanic|     F|Boston  Massachus...| 1048 Skiles Trailer|    Walpole|Massachusetts|  Norfolk County|02081|42.177370220648726|-71.28135315860652|           80155.36|            1599.08|\n|ad2e9916-4979-40f...|2004-12-19|     NULL|999-78-4480|     NULL|      NULL|  NULL|     Jeffrey461|Greenfelder433|  NULL|         NULL|   NULL|white|nonhispanic|     M|Plymouth  Massach...|428 Wiza Glen Uni...|Springfield|Massachusetts|  Hampden County|01104|42.104927111867894|-72.59101060950445|          317164.78|            2816.48|\n|bfb6537b-535a-4f3...|1991-07-03|     NULL|999-74-9712|S99913545|X65838399X|  Mrs.|       Karyn217|       Jast432|  NULL|  Reynolds644|      M|white|nonhispanic|     F|Belmont  Massachu...|181 Feest Passage...|   Medfield|Massachusetts|  Norfolk County|02052|42.138719393835025|-71.29725536274758|          700919.16|  6196.919999999999|\n|83719bd7-7a41-4c8...|1989-06-07|     NULL|999-24-1237|S99993444|X19938368X|  Mrs.|       Leann224|      Larson43|  NULL| Jaskolski867|      M|white|nonhispanic|     F|Fall River  Massa...|118 Bailey Orchar...|    Needham|Massachusetts|  Norfolk County| NULL|42.320747443630474|-71.23282934575425|          706612.59|  8624.599999999999|\n|76982e06-f8b8-450...|1982-09-01|     NULL|999-21-5604|S99957470|X55072337X|   Ms.|    Christal240|       Brown30|  NULL|         NULL|      S|white|nonhispanic|     F|Bellingham  Massa...|1060 Hansen Overp...|     Boston|Massachusetts|  Suffolk County|02118|42.284598473357775|-71.13449674876126|          779464.29| 11713.809999999998|\n|2ffe9369-24e4-414...|1958-07-01|     NULL|999-76-2715|S99927965|X70120330X|  Mrs.|       Amada498|   Reichert620|  NULL|    Spinka232|      M|white|nonhispanic|     F|Watertown  Massac...| 970 Grant Highlands| Foxborough|Massachusetts|  Norfolk County| NULL| 42.07894173393037|-71.22544168501237|         1368017.49| 15959.849999999999|\n|e4f1bd35-93ae-418...|1957-02-25|     NULL|999-66-4231|S99983425| X1708221X|   Ms.|        Raye931|     Wunsch504|  NULL|         NULL|      S|white|nonhispanic|     F|Arlington  Massac...|585 Greenfelder Camp|     Quincy|Massachusetts|  Norfolk County|02169|42.266511451175816|-70.95648012153919|         1551125.51| 11583.439999999999|\n|86b97fc7-ae8f-4e0...|1959-05-26|     NULL|999-59-1261|S99917383|X23685647X|  Mrs.|      Anissa357|    Wuckert783|  NULL|     Ebert178|      M|white|nonhispanic|     F|Pembroke  Massach...|661 Schulist High...|    Waltham|Massachusetts|Middlesex County|02452| 42.42591517440363|-71.28867283165437|         1388471.07| 20739.929999999997|\n|1c591f0d-95b1-428...|1954-04-04|     NULL|999-88-9161|S99916076|X45594159X|   Mr.|      Edmund685|     Walker122|  NULL|         NULL|      M|white|nonhispanic|     M|Dedham  Massachus...|     383 Crooks Camp|    Norwell|Massachusetts| Plymouth County| NULL|  42.1922447262567|-70.83915436161415|         1412795.84|            5545.28|\n|f1678bde-4814-4d7...|1958-04-11|     NULL|999-49-5916|S99927174|X60264115X|  Mrs.|       Danae973|  Bartoletti50|  NULL| Gleichner915|      M|white|nonhispanic|     F|Holyoke  Massachu...|1062 Conn Well Su...| Framingham|Massachusetts|Middlesex County|01702| 42.30967844045964|-71.42307309211299|         1329466.45|           17081.82|\n|aac107d8-5187-420...|1983-09-02|     NULL|999-57-9112|S99979946|X70531895X|  Mrs.|      Lisbeth69|       Hand679|  NULL|    Durgan499|      M|white|nonhispanic|     F|Agawam  Massachus...|      290 Hyatt Lane|     Malden|Massachusetts|Middlesex County|02155| 42.41495500202392| -71.0670663224216|          853594.52|  7264.699999999999|\n+--------------------+----------+---------+-----------+---------+----------+------+---------------+--------------+------+-------------+-------+-----+-----------+------+--------------------+--------------------+-----------+-------------+----------------+-----+------------------+------------------+-------------------+-------------------+\nonly showing top 20 rows\n\nINFO [06-Sep-2024_05:26:27_UTC]: Reading the Target Data\nSELECT Id_New, BIRTHDATE, DEATHDATE, SSN, DRIVERS, PASSPORT, PREFIX, FIRST, LAST, SUFFIX, MAIDEN, MARITAL, RACE, ETHNICITY, GENDER, BIRTHPLACE, ADDRESS, CITY, STATE, COUNTY, ZIP, LAT, LON, HEALTHCARE_EXPENSES, HEALTHCARE_COVERAGE FROM dataview tgt \nroot\n |-- Id_New: string (nullable = true)\n |-- BIRTHDATE: date (nullable = true)\n |-- DEATHDATE: date (nullable = true)\n |-- SSN: string (nullable = true)\n |-- DRIVERS: string (nullable = true)\n |-- PASSPORT: string (nullable = true)\n |-- PREFIX: string (nullable = true)\n |-- FIRST: string (nullable = true)\n |-- LAST: string (nullable = true)\n |-- SUFFIX: string (nullable = true)\n |-- MAIDEN: string (nullable = true)\n |-- MARITAL: string (nullable = true)\n |-- RACE: string (nullable = true)\n |-- ETHNICITY: string (nullable = true)\n |-- GENDER: string (nullable = true)\n |-- BIRTHPLACE: string (nullable = true)\n |-- ADDRESS: string (nullable = true)\n |-- CITY: string (nullable = true)\n |-- STATE: string (nullable = true)\n |-- COUNTY: string (nullable = true)\n |-- ZIP: string (nullable = true)\n |-- LAT: double (nullable = true)\n |-- LON: double (nullable = true)\n |-- HEALTHCARE_EXPENSES: double (nullable = true)\n |-- HEALTHCARE_COVERAGE: double (nullable = true)\n\n+--------------------+----------+---------+-----------+---------+----------+------+---------------+--------------+------+-------------+-------+-----+-----------+------+--------------------+--------------------+-----------+-------------+----------------+-----+------------------+------------------+-------------------+-------------------+\n|              Id_New| BIRTHDATE|DEATHDATE|        SSN|  DRIVERS|  PASSPORT|PREFIX|          FIRST|          LAST|SUFFIX|       MAIDEN|MARITAL| RACE|  ETHNICITY|GENDER|          BIRTHPLACE|             ADDRESS|       CITY|        STATE|          COUNTY|  ZIP|               LAT|               LON|HEALTHCARE_EXPENSES|HEALTHCARE_COVERAGE|\n+--------------------+----------+---------+-----------+---------+----------+------+---------------+--------------+------+-------------+-------+-----+-----------+------+--------------------+--------------------+-----------+-------------+----------------+-----+------------------+------------------+-------------------+-------------------+\n|1d604da9-9a81-4ba...|1989-05-25|     NULL|999-76-6866|S99984236|X19277260X|   Mr.|José Eduardo181|      Gómez206|  NULL|         NULL|      M|white|   hispanic|     M|Marigot  Saint An...|427 Balistreri Wa...|   Chicopee|Massachusetts|  Hampden County|01013| 42.22835382315942|-72.56295055096882|          271227.08| 1334.8799999999999|\n|034e9e3b-2def-455...|1983-11-14|     NULL|999-73-5361|S99962402|X88275464X|   Mr.|        Milo271|       Feil794|  NULL|         NULL|      M|white|nonhispanic|     M|Danvers  Massachu...|422 Farrell Path ...| Somerville|Massachusetts|Middlesex County|02143| 42.36069732777065|-71.12653095133149|          793946.01|            3204.49|\n|10339b10-3cd1-4ac...|1992-06-02|     NULL|999-27-3385|S99972682|X73754411X|   Mr.|      Jayson808|      Fadel536|  NULL|         NULL|      M|white|nonhispanic|     M|Springfield  Mass...|1056 Harris Lane ...|   Chicopee|Massachusetts|  Hampden County|01020|42.181642300277424|-72.60884222581657|           574111.9| 2606.3999999999996|\n|8d4c4326-e9de-4f4...|1978-05-27|     NULL|999-85-4926|S99974448|X40915583X|  Mrs.|     Mariana775| Rutherford999|  NULL|Williamson769|      M|white|nonhispanic|     F|Yarmouth  Massach...|      999 Kuhn Forge|     Lowell|Massachusetts|Middlesex County|01851| 42.63614335069588| -71.3432549217789|           935630.3|  8756.189999999999|\n|f5dcd418-09fe-4a2...|1996-10-18|     NULL|999-60-7372|S99915787|X86772962X|   Mr.|    Gregorio366|        Auer97|  NULL|         NULL|   NULL|white|nonhispanic|     M|  Patras  Achaea  GR|1050 Lindgren Ext...|     Boston|Massachusetts|  Suffolk County|02135| 42.35243426303177|-71.02861042115062|          598763.07|             3772.2|\n|72c0b9ce-7aa4-430...|2017-07-27|     NULL|999-68-6630|     NULL|      NULL|  NULL|     Jacinto644|       Kris249|  NULL|         NULL|   NULL|white|nonhispanic|     M|Beverly  Massachu...|888 Hickle Ferry ...|Springfield|Massachusetts|  Hampden County|01106|42.151961474963535|-72.59895940376188|            8718.66|            1499.08|\n|b1e9b0b9-da6e-4f6...|2003-12-13|     NULL|999-73-2461|S99954048|      NULL|  NULL|       Jimmie93|     Harris789|  NULL|         NULL|   NULL|white|nonhispanic|     F|Worcester  Massac...|201 Mitchell Lodg...|   Pembroke|Massachusetts| Plymouth County| NULL| 42.07529152717956|-70.75703466334431|          397548.14|            3093.12|\n|01207ecd-9dff-475...|2019-05-15|     NULL|999-81-4349|     NULL|      NULL|  NULL|       Karyn217|    Mueller846|  NULL|         NULL|   NULL|white|nonhispanic|     F|New Bedford  Mass...|570 Abshire Forge...|    Colrain|Massachusetts| Franklin County| NULL|42.740219982868055|-72.72264767557297|            26400.0|  774.9599999999999|\n|b58731cc-2d8b-4c2...|1970-05-16|     NULL|999-90-2484|S99978036|X78170348X|  Mrs.|      Isabel214|      Lucio648|  NULL|  Carvajal694|      M|white|   hispanic|     F|Santiago  Santiag...|335 Morar Highlan...| Fall River|Massachusetts|  Bristol County|02720| 41.68768444527544| -71.0557687821624|          987310.04| 14166.009999999997|\n|cfee79fc-df05-476...|2016-07-04|     NULL|999-15-5895|     NULL|      NULL|  NULL|        Alva958|    Krajcik437|  NULL|         NULL|   NULL|white|nonhispanic|     F|Boston  Massachus...| 1048 Skiles Trailer|    Walpole|Massachusetts|  Norfolk County|02081|42.177370220648726|-71.28135315860652|           80155.36|            1599.08|\n|ad2e9916-4979-40f...|2004-12-19|     NULL|999-78-4480|     NULL|      NULL|  NULL|     Jeffrey461|Greenfelder433|  NULL|         NULL|   NULL|white|nonhispanic|     M|Plymouth  Massach...|428 Wiza Glen Uni...|Springfield|Massachusetts|  Hampden County|01104|42.104927111867894|-72.59101060950445|          317164.78|            2816.48|\n|bfb6537b-535a-4f3...|1991-07-03|     NULL|999-74-9712|S99913545|X65838399X|  Mrs.|       Karyn217|       Jast432|  NULL|  Reynolds644|      M|white|nonhispanic|     F|Belmont  Massachu...|181 Feest Passage...|   Medfield|Massachusetts|  Norfolk County|02052|42.138719393835025|-71.29725536274758|          700919.16|  6196.919999999999|\n|83719bd7-7a41-4c8...|1989-06-07|     NULL|999-24-1237|S99993444|X19938368X|  Mrs.|       Leann224|      Larson43|  NULL| Jaskolski867|      M|white|nonhispanic|     F|Fall River  Massa...|118 Bailey Orchar...|    Needham|Massachusetts|  Norfolk County| NULL|42.320747443630474|-71.23282934575425|          706612.59|  8624.599999999999|\n|76982e06-f8b8-450...|1982-09-01|     NULL|999-21-5604|S99957470|X55072337X|   Ms.|    Christal240|       Brown30|  NULL|         NULL|      S|white|nonhispanic|     F|Bellingham  Massa...|1060 Hansen Overp...|     Boston|Massachusetts|  Suffolk County|02118|42.284598473357775|-71.13449674876126|          779464.29| 11713.809999999998|\n|2ffe9369-24e4-414...|1958-07-01|     NULL|999-76-2715|S99927965|X70120330X|  Mrs.|       Amada498|   Reichert620|  NULL|    Spinka232|      M|white|nonhispanic|     F|Watertown  Massac...| 970 Grant Highlands| Foxborough|Massachusetts|  Norfolk County| NULL| 42.07894173393037|-71.22544168501237|         1368017.49| 15959.849999999999|\n|e4f1bd35-93ae-418...|1957-02-25|     NULL|999-66-4231|S99983425| X1708221X|   Ms.|        Raye931|     Wunsch504|  NULL|         NULL|      S|white|nonhispanic|     F|Arlington  Massac...|585 Greenfelder Camp|     Quincy|Massachusetts|  Norfolk County|02169|42.266511451175816|-70.95648012153919|         1551125.51| 11583.439999999999|\n|86b97fc7-ae8f-4e0...|1959-05-26|     NULL|999-59-1261|S99917383|X23685647X|  Mrs.|      Anissa357|    Wuckert783|  NULL|     Ebert178|      M|white|nonhispanic|     F|Pembroke  Massach...|661 Schulist High...|    Waltham|Massachusetts|Middlesex County|02452| 42.42591517440363|-71.28867283165437|         1388471.07| 20739.929999999997|\n|1c591f0d-95b1-428...|1954-04-04|     NULL|999-88-9161|S99916076|X45594159X|   Mr.|      Edmund685|     Walker122|  NULL|         NULL|      M|white|nonhispanic|     M|Dedham  Massachus...|     383 Crooks Camp|    Norwell|Massachusetts| Plymouth County| NULL|  42.1922447262567|-70.83915436161415|         1412795.84|            5545.28|\n|f1678bde-4814-4d7...|1958-04-11|     NULL|999-49-5916|S99927174|X60264115X|  Mrs.|       Danae973|  Bartoletti50|  NULL| Gleichner915|      M|white|nonhispanic|     F|Holyoke  Massachu...|1062 Conn Well Su...| Framingham|Massachusetts|Middlesex County|01702| 42.30967844045964|-71.42307309211299|         1329466.45|           17081.82|\n|aac107d8-5187-420...|1983-09-02|     NULL|999-57-9112|S99979946|X70531895X|  Mrs.|      Lisbeth69|       Hand679|  NULL|    Durgan499|      M|white|nonhispanic|     F|Agawam  Massachus...|      290 Hyatt Lane|     Malden|Massachusetts|Middlesex County|02155| 42.41495500202392| -71.0670663224216|          853594.52|  7264.699999999999|\n+--------------------+----------+---------+-----------+---------+----------+------+---------------+--------------+------+-------------+-------+-----+-----------+------+--------------------+--------------------+-----------+-------------+----------------+-----+------------------+------------------+-------------------+-------------------+\nonly showing top 20 rows\n\nINFO [06-Sep-2024_05:26:28_UTC]: testcase34_delta_parquet_auto: Comparing Source and Target Data based on TestCase Configuration Started:  testcase34_delta_parquet_auto\nINFO [06-Sep-2024_05:26:28_UTC]: Data Compare Started for TestingType - content \nINFO [06-Sep-2024_05:26:28_UTC]: Joining with column names: ['Id_New']\nCounting Source Rows now...\nCounting Target Rows now...\nComparing Contents of Source and Target now...(this may take a while)...\nINFO [06-Sep-2024_05:27:15_UTC]: Test Case Passed as Content Matched\nINFO [06-Sep-2024_05:27:28_UTC]: Data Compare Completed for TestingType - content \nINFO [06-Sep-2024_05:27:28_UTC]: testcase34_delta_parquet_auto: Comparing Source and Target Data based on TestCase Configuration Completed for testcase34_delta_parquet_auto\nINFO [06-Sep-2024_05:27:28_UTC]: testcase34_delta_parquet_auto: Test Results PDF Generation for Test Case Started for testcase34_delta_parquet_auto\nINFO [06-Sep-2024_05:27:28_UTC]: testcase34_delta_parquet_auto: Testcase Results PDF for testcase34_delta_parquet_auto testcase is created at location:/Workspace/Repos/sahil.gupta@tigeranalytics.com/QE_ATF/datf_core/test/results/DATFDemo/run_content_06_Sep_2024_05_26_18_UTC//run_testcase_summary_06_Sep_2024_05_26_18_UTC//testcase34_delta_parquet_auto_passed.pdf\nINFO [06-Sep-2024_05:27:28_UTC]: testcase34_delta_parquet_auto: TestCase Results PDF Generation for Test Case Completed:testcase34_delta_parquet_auto\nINFO [06-Sep-2024_05:27:28_UTC]: testcase34_delta_parquet_auto: TestCase Results of  testcase34_delta_parquet_auto are Appended to the Summary\nINFO [06-Sep-2024_05:27:28_UTC]: testcase34_delta_parquet_auto: Testcase Execution Completed for testcase34_delta_parquet_auto\nINFO [06-Sep-2024_05:27:28_UTC]: Combined Test Case PDF Generated\nINFO [06-Sep-2024_05:27:28_UTC]: Protocol DATFDemo executed in 0:01:10\nINFO [06-Sep-2024_05:27:29_UTC]: Protocol Summary PDF Generated\nINFO [06-Sep-2024_05:27:29_UTC]: Generating Charts and Trends from Results of the Protcol Execution\nINFO [06-Sep-2024_05:27:30_UTC]: Execution Data stored in DB successfully\nINFO [06-Sep-2024_05:27:31_UTC]: Data retrieved from DB successfully.\nINFO [06-Sep-2024_05:27:31_UTC]: Data retrieved from DB successfully.\nINFO [06-Sep-2024_05:27:31_UTC]: Chart generated at: /Workspace/Repos/sahil.gupta@tigeranalytics.com/QE_ATF/datf_core/test/results/charts/chart_report_06_Sep_2024_05_26_18_UTC.html\nINFO [06-Sep-2024_05:27:32_UTC]: Trends generated at: /Workspace/Repos/sahil.gupta@tigeranalytics.com/QE_ATF/datf_core/test/results/trends/datf_trends_report.html\nINFO [06-Sep-2024_05:27:39_UTC]: HTML & PDF Reports copied over to: /Workspace/Repos/sahil.gupta@tigeranalytics.com/QE_ATF/datf_core/utils/reports\nINFO [06-Sep-2024_05:27:39_UTC]: Protocol Execution Completed\n"
     ]
    }
   ],
   "source": [
    "#python\n",
    "import os\n",
    "work_path = dbutils.widgets.get(\"work_path\")\n",
    "os.environ['CWD'] = work_path\n",
    "py_file = f\"{work_path}/src/s2ttester.py\"\n",
    "test_type = dbutils.widgets.get(\"test_type\")\n",
    "test_names = dbutils.widgets.get(\"test_names\")\n",
    "test_protocol_name = dbutils.widgets.get(\"test_protocol_name\")\n",
    "params = {\n",
    "    \"test_protocol_name\": test_protocol_name,\n",
    "    \"test_type\": test_type,\n",
    "    \"test_names\": test_names\n",
    "}\n",
    "test_protocol = f\"{work_path}/test/testprotocol/{test_protocol_name}.xlsx\"\n",
    "runner = f\"{py_file} {test_protocol} {test_type} {test_names}\"\n",
    "%run $runner"
   ]
  },
  {
   "cell_type": "code",
   "execution_count": 0,
   "metadata": {
    "application/vnd.databricks.v1+cell": {
     "cellMetadata": {
      "byteLimit": 2048000,
      "rowLimit": 10000
     },
     "inputWidgets": {},
     "nuid": "29a71df5-874a-44a8-bb1c-4afc5d87bb85",
     "showTitle": false,
     "title": ""
    }
   },
   "outputs": [
    {
     "output_type": "display_data",
     "data": {
      "text/html": [
       "\n",
       "        <html>\n",
       "        <head>\n",
       "            <title>DATF Test Run Report</title>\n",
       "            <style>\n",
       "                /* Define a CSS style for the headers */\n",
       "                h2, h3, h4 {\n",
       "                    font-size: 18px;\n",
       "                    font-family: Arial, sans-serif;\n",
       "                }\n",
       "                /* Style to display elements side by side */\n",
       "                .flex-container {\n",
       "                    display: flex;\n",
       "                    justify-content: space-between;\n",
       "                }\n",
       "\n",
       "            </style>\n",
       "\n",
       "        </head>\n",
       "        <body>\n",
       "            <h1>DATF Test Execution Summary</h1>\n",
       "            <div class=\"flex-container\">\n",
       "                <div>\n",
       "                    <h3><b>1. Overall Status</b></h3>\n",
       "                    <div>\n",
       "                        \n",
       "    <!DOCTYPE html>\n",
       "    <html>\n",
       "    <head>\n",
       "      <script type=\"text/javascript\" src=\"https://www.gstatic.com/charts/loader.js\"></script>\n",
       "      <script type=\"text/javascript\">\n",
       "        google.charts.load('current', { packages: ['corechart'] });\n",
       "        google.charts.setOnLoadCallback(drawChart);\n",
       "        \n",
       "            var pieChartData = [['Status', 'Count'], ['Passed', 1]]\n",
       "\n",
       "        function drawChart() {\n",
       "          // Drawing Pie Chart for Test Case Execution Results\n",
       "          var pieData = google.visualization.arrayToDataTable(pieChartData);       \n",
       "    \n",
       "          var pieOptions = {\n",
       "            title: 'Test Result Distribution',\n",
       "            is3D: true,\n",
       "            legend: 'none',\n",
       "                   colors:['green']\n",
       "\n",
       "          };\n",
       "\n",
       "          var pieChart = new google.visualization.PieChart(document.getElementById('pie_chart'));\n",
       "          pieChart.draw(pieData, pieOptions);\n",
       "        }\n",
       "      </script>\n",
       "    </head>\n",
       "    <body>\n",
       "      <div id=\"pie_chart\" style=\"width: 550px; height: 400px; display: inline-block;\"></div>\n",
       "    </body>\n",
       "    </html>\n",
       "      <!-- Embed the pie chart here -->\n",
       "                    </div>\n",
       "                </div>\n",
       "                <div>\n",
       "                    <h3><b>2. Duration Summary</b></h3>\n",
       "                    \n",
       "    <!DOCTYPE html>\n",
       "    <html>\n",
       "    <head>\n",
       "      <script type=\"text/javascript\" src=\"https://www.gstatic.com/charts/loader.js\"></script>\n",
       "      <script type=\"text/javascript\">\n",
       "        google.charts.load('current', {'packages':['corechart']});\n",
       "        google.charts.setOnLoadCallback(drawCharts);\n",
       "\n",
       "        function drawCharts() {\n",
       "          // Drawing Bar Chart for Test Case Execution Time Intervals\n",
       "          var timeData = new google.visualization.DataTable();\n",
       "          timeData.addColumn('string', 'Time Intervals');\n",
       "          timeData.addColumn('number', 'Number of Test Cases');\n",
       "          timeData.addColumn({type: 'string', role: 'tooltip', 'p': {'html': true}});\n",
       "\n",
       "          timeData.addRows([\n",
       "            ['0s-45s', 0, 'No test cases'],\n",
       "        ['45s-2m', 1, 'testcase34_delta_parquet_auto'],\n",
       "        ['2m-5m', 0, 'No test cases'],\n",
       "        ['5m+', 0, 'No test cases'],\n",
       "\n",
       "          ]);\n",
       "\n",
       "          var timeOptions = {\n",
       "            title: 'Test Execution Time Intervals',\n",
       "            legend: {position: 'none'},\n",
       "            hAxis: {\n",
       "              title: 'Number of Test Cases',\n",
       "              minValue: 0,\n",
       "            },\n",
       "            vAxis: {\n",
       "              title: 'Time Intervals',\n",
       "              textStyle: { fontSize: 12 }\n",
       "            },\n",
       "            tooltip: { isHtml: true }\n",
       "          };\n",
       "\n",
       "          var timeChart = new google.visualization.BarChart(document.getElementById('time_chart'));\n",
       "          timeChart.draw(timeData, timeOptions);\n",
       "        }\n",
       "      </script>\n",
       "    </head>\n",
       "    <body>\n",
       "      <div id=\"time_chart\" style=\"width: 550px; height: 400px; display: inline-block;\"></div>\n",
       "    </body>\n",
       "    </html>\n",
       "      <!-- Include the duration chart here -->\n",
       "                </div>\n",
       "            </div>\n",
       "            <h2><b>2. Protocol Test Results</b></h2>\n",
       "            <p><table class=\"dataframe\">\n",
       "  <thead>\n",
       "    <tr style=\"text-align: right;\">\n",
       "      <th style = \"background-color: #C65911;font-family: Century Gothic, sans-serif;font-size: medium;color: #FFFFFF;text-align: left;border-bottom: 2px solid #C65911;padding: 0px 20px 0px 0px;width: auto\">Testcase Name</th>\n",
       "      <th style = \"background-color: #C65911;font-family: Century Gothic, sans-serif;font-size: medium;color: #FFFFFF;text-align: left;border-bottom: 2px solid #C65911;padding: 0px 20px 0px 0px;width: auto\">No. of Rows in Source</th>\n",
       "      <th style = \"background-color: #C65911;font-family: Century Gothic, sans-serif;font-size: medium;color: #FFFFFF;text-align: left;border-bottom: 2px solid #C65911;padding: 0px 20px 0px 0px;width: auto\">No. of Rows in Target</th>\n",
       "      <th style = \"background-color: #C65911;font-family: Century Gothic, sans-serif;font-size: medium;color: #FFFFFF;text-align: left;border-bottom: 2px solid #C65911;padding: 0px 20px 0px 0px;width: auto\">No. of Rows matched</th>\n",
       "      <th style = \"background-color: #C65911;font-family: Century Gothic, sans-serif;font-size: medium;color: #FFFFFF;text-align: left;border-bottom: 2px solid #C65911;padding: 0px 20px 0px 0px;width: auto\">No. of Rows mismatched</th>\n",
       "      <th style = \"background-color: #C65911;font-family: Century Gothic, sans-serif;font-size: medium;color: #FFFFFF;text-align: left;border-bottom: 2px solid #C65911;padding: 0px 20px 0px 0px;width: auto\">Test Result</th>\n",
       "      <th style = \"background-color: #C65911;font-family: Century Gothic, sans-serif;font-size: medium;color: #FFFFFF;text-align: left;border-bottom: 2px solid #C65911;padding: 0px 20px 0px 0px;width: auto\">Reason</th>\n",
       "      <th style = \"background-color: #C65911;font-family: Century Gothic, sans-serif;font-size: medium;color: #FFFFFF;text-align: left;border-bottom: 2px solid #C65911;padding: 0px 20px 0px 0px;width: auto\">Runtime</th>\n",
       "    </tr>\n",
       "  </thead>\n",
       "  <tbody>\n",
       "    <tr>\n",
       "      <td style = \"background-color: #FCE4D6;font-family: Century Gothic, sans-serif;font-size: medium;text-align: left;padding: 0px 20px 0px 0px;width: auto\">testcase34_delta_parquet_auto</td>\n",
       "      <td style = \"background-color: #FCE4D6;font-family: Century Gothic, sans-serif;font-size: medium;text-align: left;padding: 0px 20px 0px 0px;width: auto\">1,171</td>\n",
       "      <td style = \"background-color: #FCE4D6;font-family: Century Gothic, sans-serif;font-size: medium;text-align: left;padding: 0px 20px 0px 0px;width: auto\">1,171</td>\n",
       "      <td style = \"background-color: #FCE4D6;font-family: Century Gothic, sans-serif;font-size: medium;text-align: left;padding: 0px 20px 0px 0px;width: auto\">1,171</td>\n",
       "      <td style = \"background-color: #FCE4D6;font-family: Century Gothic, sans-serif;font-size: medium;text-align: left;padding: 0px 20px 0px 0px;width: auto\">0</td>\n",
       "      <td style = \"background-color: #FCE4D6;font-family: Century Gothic, sans-serif;font-size: medium;text-align: left;padding: 0px 20px 0px 0px;width: auto\">Passed</td>\n",
       "      <td style = \"background-color: #FCE4D6;font-family: Century Gothic, sans-serif;font-size: medium;text-align: left;padding: 0px 20px 0px 0px;width: auto\">Content matched</td>\n",
       "      <td style = \"background-color: #FCE4D6;font-family: Century Gothic, sans-serif;font-size: medium;text-align: left;padding: 0px 20px 0px 0px;width: auto\">0:01:09</td>\n",
       "    </tr>\n",
       "  </tbody>\n",
       "</table></p>\n",
       "            <h2><b>3. Protocol Run Details</b></h2>\n",
       "            <p><span style='font-weight:bold'>Application Name</span><span class='tab'></span>: sample<br><span style='font-weight:bold'>Test Protocol Name</span><span class='tab'></span>: DATFDemo<br><span style='font-weight:bold'>Test Protocol Version</span><span class='tab'></span>: 2<br><span style='font-weight:bold'>Test Environment</span><span class='tab'></span>: dev<br><span style='font-weight:bold'>Test Protocol Start Time</span><span class='tab'></span>: 06-Sep-2024 05:26:18 UTC<br><span style='font-weight:bold'>Test Protocol End Time</span><span class='tab'></span>: 06-Sep-2024 05:27:28 UTC<br><span style='font-weight:bold'>Total Protocol Run Time</span><span class='tab'></span>: 0:01:10<br><span style='font-weight:bold'>Total No of Test Cases</span><span class='tab'></span>: 1<br><span style='font-weight:bold'>No of Test Cases Passed</span><span class='tab'></span>: 1<br><span style='font-weight:bold'>No of Test Cases Failed</span><span class='tab'></span>: 0<br></p>\n",
       "            <h2><b>4. Protocol Run Parameters</b></h2>\n",
       "            <p><span style='font-weight:bold'>Protocol File Path</span><span class='tab'></span>: /Workspace/Repos/sahil.gupta@tigeranalytics.com/QE_ATF/datf_core//test/testprotocol/fewtestprotocol.xlsx<br><span style='font-weight:bold'>Testcase Type</span><span class='tab'></span>: content<br></p>\n",
       "           \n",
       "        </body>\n",
       "        </html>\n",
       "    "
      ]
     },
     "metadata": {},
     "output_type": "display_data"
    }
   ],
   "source": [
    "work_path = dbutils.widgets.get(\"work_path\")\n",
    "html_file_content = open(f\"{work_path}/utils/reports/datfreport.html\", 'r').read()\n",
    "displayHTML(html_file_content)"
   ]
  },
  {
   "cell_type": "code",
   "execution_count": 0,
   "metadata": {
    "application/vnd.databricks.v1+cell": {
     "cellMetadata": {
      "byteLimit": 2048000,
      "rowLimit": 10000
     },
     "inputWidgets": {},
     "nuid": "0a30d972-6659-4eba-9f57-7e31ea639b77",
     "showTitle": false,
     "title": ""
    }
   },
   "outputs": [
    {
     "output_type": "display_data",
     "data": {
      "text/html": [
       "\n",
       "    <!DOCTYPE html>\n",
       "    <html>\n",
       "    <head>\n",
       "      <title>Historical Trends Dashboard</title>\n",
       "      <script type=\"text/javascript\" src=\"https://www.gstatic.com/charts/loader.js\"></script>\n",
       "    </head>\n",
       "    <body>    \n",
       "    \n",
       "      <h2>1. Historical Trends Graph (Last 40 Runs)</h2>\n",
       "      <div id=\"trends_chart\"></div>\n",
       "      \n",
       "        <script type=\"text/javascript\">\n",
       "            google.charts.load('current', { packages: ['corechart'], callback: drawTrends });\n",
       "            \n",
       "            var trendsData = [['06_Sep_2024_05_26_18_UTC', 1, 0, 1, 1.48], ['30_Aug_2024_12_36_56_UTC', 1, 1, 0, 1.48], ['30_Aug_2024_12_25_04_UTC', 1, 1, 0, 1.48], ['30_Aug_2024_12_21_07_UTC', 1, 1, 0, 1.48], ['30_Aug_2024_12_16_45_UTC', 1, 1, 0, 1.48], ['30_Aug_2024_12_16_11_UTC', 1, 1, 0, 1.48], ['30_Aug_2024_12_11_39_UTC', 1, 1, 0, 1.48], ['30_Aug_2024_12_12_42_UTC', 1, 1, 0, 1.48], ['30_Aug_2024_12_04_59_UTC', 1, 1, 0, 1.48], ['30_Aug_2024_12_03_04_UTC', 1, 1, 0, 1.48], ['30_Aug_2024_12_01_50_UTC', 1, 1, 0, 1.48], ['30_Aug_2024_12_00_24_UTC', 1, 1, 0, 1.48], ['30_Aug_2024_11_58_53_UTC', 1, 1, 0, 1.48], ['30_Aug_2024_11_54_04_UTC', 1, 1, 0, 1.48], ['29_Aug_2024_17_01_13_UTC', 5, 2, 3, 7.38], ['29_Aug_2024_16_58_28_UTC', 1, 0, 1, 1.48], ['29_Aug_2024_16_53_21_UTC', 5, 2, 3, 7.38], ['29_Aug_2024_16_51_08_UTC', 2, 2, 0, 2.95], ['28_Aug_2024_07_25_53_UTC', 1, 0, 1, 1.48], ['28_Aug_2024_07_22_17_UTC', 1, 1, 0, 1.48], ['26_Aug_2024_13_43_39_UTC', 2, 2, 0, 2.95], ['26_Aug_2024_13_34_24_UTC', 2, 2, 0, 2.95], ['26_Aug_2024_13_32_20_UTC', 1, 1, 0, 1.48], ['26_Aug_2024_13_26_00_UTC', 1, 1, 0, 1.48], ['26_Aug_2024_13_24_23_UTC', 1, 1, 0, 1.48], ['26_Aug_2024_13_14_54_UTC', 1, 1, 0, 1.48], ['26_Aug_2024_12_59_02_UTC', 2, 2, 0, 2.95], ['26_Aug_2024_12_56_27_UTC', 1, 1, 0, 1.48], ['26_Aug_2024_12_55_58_UTC', 1, 1, 0, 1.48], ['26_Aug_2024_12_37_05_UTC', 1, 1, 0, 1.48], ['26_Aug_2024_10_59_54_UTC', 1, 0, 1, 1.48], ['26_Aug_2024_10_59_11_UTC', 1, 0, 1, 1.48], ['26_Aug_2024_10_41_49_UTC', 1, 0, 1, 1.48], ['26_Aug_2024_10_37_20_UTC', 1, 1, 0, 1.48], ['26_Aug_2024_10_36_29_UTC', 1, 1, 0, 1.48], ['26_Aug_2024_10_35_07_UTC', 1, 1, 0, 1.48], ['26_Aug_2024_10_22_01_UTC', 1, 1, 0, 1.48], ['26_Aug_2024_10_19_04_UTC', 1, 1, 0, 1.48], ['26_Aug_2024_10_16_50_UTC', 1, 1, 0, 1.48], ['26_Aug_2024_10_16_01_UTC', 1, 1, 0, 1.48]]\n",
       "            function drawTrends() {\n",
       "                var data = google.visualization.arrayToDataTable([\n",
       "                ['Created Time', 'Total', 'Failed', 'Passed', 'Average'],\n",
       "                ...trendsData\n",
       "                ]);\n",
       "                \n",
       "                var options = {\n",
       "                    vAxis: {title: 'Results'},\n",
       "                    hAxis: {title: 'Timeline'},\n",
       "                    legend: {position: 'bottom', alignment: 'center', maxLines: 1},\n",
       "                    isStacked: true,\n",
       "                    seriesType: 'bars',\n",
       "                    series: {3: {type: 'line', curveType: 'function'}}\n",
       "                };\n",
       "                \n",
       "                var chart = new google.visualization.ComboChart(document.getElementById('trends_chart'));\n",
       "                chart.draw(data, options);\n",
       "            }\n",
       "        </script>\n",
       "    \n",
       "      <h2>2. No. of Test Cases Executed (All Time)</h2>\n",
       "      <div>\n",
       "        <label for=\"filter\">Test Case Type Filter:</label>\n",
       "        <select id=\"filter\" onchange=\"updateGraph()\">\n",
       "          <option value=\"count\">Counting Rows</option>\n",
       "          <option value=\"duplicate\">Finding Duplicates</option>\n",
       "          <option value=\"content\">Matching Contents</option>\n",
       "        </select>\n",
       "      </div>\n",
       "      <div id=\"chart_div\"></div>\n",
       "\n",
       "      <script type=\"text/javascript\">\n",
       "        google.charts.load('current', { packages: ['corechart'], callback: drawChart });\n",
       "\n",
       "        var countData = [['Failed', 54, 'color:#DD4477'], ['Passed', 54, 'color:#329262']];\n",
       "        var duplicateData = [['Failed', 25, 'color:#DD4477'], ['Passed', 36, 'color:#329262']];\n",
       "        var contentData = [['Failed', 42, 'color:#DD4477'], ['Passed', 11, 'color:#329262']];\n",
       "\n",
       "        function drawChart() {\n",
       "          var data = google.visualization.arrayToDataTable([\n",
       "            ['Test Result', 'Count', {role:'style'}],\n",
       "            ...countData\n",
       "          ]);\n",
       "\n",
       "          var options = {\n",
       "            title: 'Bar Graph based on Filter',\n",
       "            legend: {position: 'none'},\n",
       "            hAxis: {minValue: 0},\n",
       "            is3D: true,\n",
       "            // Other chart options\n",
       "          };\n",
       "\n",
       "          var chart = new google.visualization.BarChart(document.getElementById('chart_div'));\n",
       "          chart.draw(data, options);\n",
       "        }\n",
       "\n",
       "        function updateGraph() {\n",
       "          var selectedFilter = document.getElementById('filter').value;\n",
       "          var newData;\n",
       "\n",
       "          switch (selectedFilter) {\n",
       "            case 'count':\n",
       "              newData = countData;\n",
       "              break;\n",
       "            case 'duplicate':\n",
       "              newData = duplicateData;\n",
       "              break;\n",
       "            case 'content':\n",
       "              newData = contentData;\n",
       "              break;\n",
       "            default:\n",
       "              newData = countData;\n",
       "              break;\n",
       "          }\n",
       "\n",
       "          var data = google.visualization.arrayToDataTable([\n",
       "            ['Test Result', 'Count', {role:'style'}],\n",
       "            ...newData\n",
       "          ]);\n",
       "\n",
       "          var options = {\n",
       "            title: 'Bar Graph based on Filter',\n",
       "            legend: {position: 'none'},\n",
       "            hAxis: {minValue: 0},\n",
       "            is3D: true,\n",
       "            // Other chart options\n",
       "          };\n",
       "\n",
       "          var chart = new google.visualization.BarChart(document.getElementById('chart_div'));\n",
       "          chart.draw(data, options);\n",
       "        }\n",
       "      </script>\n",
       "    \n",
       "    </body>\n",
       "    </html>\n",
       "    "
      ]
     },
     "metadata": {},
     "output_type": "display_data"
    }
   ],
   "source": [
    "work_path = dbutils.widgets.get(\"work_path\")\n",
    "html_file_content = open(f\"{work_path}/utils/reports/datf_trends_report.html\", 'r').read()\n",
    "displayHTML(html_file_content)"
   ]
  }
 ],
 "metadata": {
  "application/vnd.databricks.v1+notebook": {
   "dashboards": [],
   "environmentMetadata": null,
   "language": "python",
   "notebookMetadata": {
    "mostRecentlyExecutedCommandWithImplicitDF": {
     "commandId": 2917062234747010,
     "dataframes": [
      "_sqldf"
     ]
    },
    "pythonIndentUnit": 4,
    "widgetLayout": [
     {
      "breakBefore": false,
      "name": "test_protocol_name",
      "width": 201
     },
     {
      "breakBefore": false,
      "name": "test_type",
      "width": 201
     },
     {
      "breakBefore": false,
      "name": "test_names",
      "width": 201
     },
     {
      "breakBefore": false,
      "name": "work_path",
      "width": 201
     }
    ]
   },
   "notebookName": "DATF-Execution",
   "widgets": {
    "test_names": {
     "currentValue": "testcase34_delta_parquet_auto",
     "nuid": "1c1b79e6-1d06-424c-b753-a606cfc6bed3",
     "typedWidgetInfo": {
      "autoCreated": false,
      "defaultValue": "all",
      "label": null,
      "name": "test_names",
      "options": {
       "widgetDisplayType": "Text",
       "validationRegex": null
      },
      "parameterDataType": "String"
     },
     "widgetInfo": {
      "widgetType": "text",
      "defaultValue": "all",
      "label": null,
      "name": "test_names",
      "options": {
       "widgetType": "text",
       "autoCreated": null,
       "validationRegex": null
      }
     }
    },
    "test_protocol_name": {
     "currentValue": "fewtestprotocol",
     "nuid": "cae66273-879c-4bb2-8085-19429784042a",
     "typedWidgetInfo": {
      "autoCreated": false,
      "defaultValue": "contenttestprotocol",
      "label": null,
      "name": "test_protocol_name",
      "options": {
       "widgetDisplayType": "Text",
       "validationRegex": null
      },
      "parameterDataType": "String"
     },
     "widgetInfo": {
      "widgetType": "text",
      "defaultValue": "contenttestprotocol",
      "label": null,
      "name": "test_protocol_name",
      "options": {
       "widgetType": "text",
       "autoCreated": null,
       "validationRegex": null
      }
     }
    },
    "test_type": {
     "currentValue": "content",
     "nuid": "60db7945-6bb9-4483-9e64-646964cf5d0f",
     "typedWidgetInfo": {
      "autoCreated": false,
      "defaultValue": "count",
      "label": null,
      "name": "test_type",
      "options": {
       "widgetDisplayType": "Dropdown",
       "choices": [
        "count",
        "duplicate",
        "content"
       ],
       "fixedDomain": true,
       "multiselect": false
      },
      "parameterDataType": "String"
     },
     "widgetInfo": {
      "widgetType": "dropdown",
      "defaultValue": "count",
      "label": null,
      "name": "test_type",
      "options": {
       "widgetType": "dropdown",
       "autoCreated": null,
       "choices": [
        "count",
        "duplicate",
        "content"
       ]
      }
     }
    },
    "work_path": {
     "currentValue": "/Workspace/Repos/sahil.gupta@tigeranalytics.com/QE_ATF/datf_core/",
     "nuid": "b6d62351-0f9f-4463-87de-e4fa17e85f40",
     "typedWidgetInfo": {
      "autoCreated": false,
      "defaultValue": "/Workspace/Repos/sahil.gupta@tigeranalytics.com/QE_ATF/datf_core/",
      "label": null,
      "name": "work_path",
      "options": {
       "widgetDisplayType": "Text",
       "validationRegex": null
      },
      "parameterDataType": "String"
     },
     "widgetInfo": {
      "widgetType": "text",
      "defaultValue": "/Workspace/Repos/sahil.gupta@tigeranalytics.com/QE_ATF/datf_core/",
      "label": null,
      "name": "work_path",
      "options": {
       "widgetType": "text",
       "autoCreated": null,
       "validationRegex": null
      }
     }
    }
   }
  }
 },
 "nbformat": 4,
 "nbformat_minor": 0
}
