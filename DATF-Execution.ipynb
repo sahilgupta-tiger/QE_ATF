{
 "cells": [
  {
   "cell_type": "code",
   "execution_count": 0,
   "metadata": {
    "application/vnd.databricks.v1+cell": {
     "cellMetadata": {
      "byteLimit": 2048000,
      "rowLimit": 10000
     },
     "inputWidgets": {},
     "nuid": "db2f7345-8158-4201-b528-563ffc0132b5",
     "showTitle": false,
     "title": ""
    }
   },
   "outputs": [],
   "source": [
    "dbutils.widgets.text('test_type', 'count')\n",
    "dbutils.widgets.text('test_names', 'testcase24_snowflake_snowflake_etljob')"
   ]
  },
  {
   "cell_type": "code",
   "execution_count": 0,
   "metadata": {
    "application/vnd.databricks.v1+cell": {
     "cellMetadata": {
      "byteLimit": 2048000,
      "rowLimit": 10000
     },
     "inputWidgets": {},
     "nuid": "32e7190d-f902-4107-b296-5ad0b7d4b5ad",
     "showTitle": false,
     "title": ""
    },
    "jupyter": {
     "outputs_hidden": true
    }
   },
   "outputs": [
    {
     "output_type": "stream",
     "name": "stdout",
     "output_type": "stream",
     "text": [
      "Requirement already satisfied: pip in /local_disk0/.ephemeral_nfs/envs/pythonEnv-65c6d297-87ea-49f8-9645-da6ec02f8521/lib/python3.10/site-packages (24.0)\nRequirement already satisfied: datacompy in /local_disk0/.ephemeral_nfs/envs/pythonEnv-65c6d297-87ea-49f8-9645-da6ec02f8521/lib/python3.10/site-packages (0.12.0)\nRequirement already satisfied: pandas<=2.2.2,>=0.25.0 in /databricks/python3/lib/python3.10/site-packages (from datacompy) (1.5.3)\nRequirement already satisfied: numpy<=1.26.4,>=1.22.0 in /databricks/python3/lib/python3.10/site-packages (from datacompy) (1.23.5)\nRequirement already satisfied: ordered-set<=4.1.0,>=4.0.2 in /local_disk0/.ephemeral_nfs/envs/pythonEnv-65c6d297-87ea-49f8-9645-da6ec02f8521/lib/python3.10/site-packages (from datacompy) (4.1.0)\nRequirement already satisfied: fugue<=0.8.7,>=0.8.7 in /local_disk0/.ephemeral_nfs/envs/pythonEnv-65c6d297-87ea-49f8-9645-da6ec02f8521/lib/python3.10/site-packages (from datacompy) (0.8.7)\nRequirement already satisfied: triad>=0.9.3 in /local_disk0/.ephemeral_nfs/envs/pythonEnv-65c6d297-87ea-49f8-9645-da6ec02f8521/lib/python3.10/site-packages (from fugue<=0.8.7,>=0.8.7->datacompy) (0.9.6)\nRequirement already satisfied: adagio>=0.2.4 in /local_disk0/.ephemeral_nfs/envs/pythonEnv-65c6d297-87ea-49f8-9645-da6ec02f8521/lib/python3.10/site-packages (from fugue<=0.8.7,>=0.8.7->datacompy) (0.2.4)\nRequirement already satisfied: qpd>=0.4.4 in /local_disk0/.ephemeral_nfs/envs/pythonEnv-65c6d297-87ea-49f8-9645-da6ec02f8521/lib/python3.10/site-packages (from fugue<=0.8.7,>=0.8.7->datacompy) (0.4.4)\nRequirement already satisfied: fugue-sql-antlr>=0.1.6 in /local_disk0/.ephemeral_nfs/envs/pythonEnv-65c6d297-87ea-49f8-9645-da6ec02f8521/lib/python3.10/site-packages (from fugue<=0.8.7,>=0.8.7->datacompy) (0.2.0)\nRequirement already satisfied: sqlglot in /local_disk0/.ephemeral_nfs/envs/pythonEnv-65c6d297-87ea-49f8-9645-da6ec02f8521/lib/python3.10/site-packages (from fugue<=0.8.7,>=0.8.7->datacompy) (23.15.9)\nRequirement already satisfied: jinja2 in /databricks/python3/lib/python3.10/site-packages (from fugue<=0.8.7,>=0.8.7->datacompy) (3.1.2)\nRequirement already satisfied: python-dateutil>=2.8.1 in /databricks/python3/lib/python3.10/site-packages (from pandas<=2.2.2,>=0.25.0->datacompy) (2.8.2)\nRequirement already satisfied: pytz>=2020.1 in /databricks/python3/lib/python3.10/site-packages (from pandas<=2.2.2,>=0.25.0->datacompy) (2022.7)\nRequirement already satisfied: antlr4-python3-runtime<4.12 in /local_disk0/.ephemeral_nfs/envs/pythonEnv-65c6d297-87ea-49f8-9645-da6ec02f8521/lib/python3.10/site-packages (from fugue-sql-antlr>=0.1.6->fugue<=0.8.7,>=0.8.7->datacompy) (4.11.1)\nRequirement already satisfied: packaging in /databricks/python3/lib/python3.10/site-packages (from fugue-sql-antlr>=0.1.6->fugue<=0.8.7,>=0.8.7->datacompy) (23.2)\nRequirement already satisfied: six>=1.5 in /usr/lib/python3/dist-packages (from python-dateutil>=2.8.1->pandas<=2.2.2,>=0.25.0->datacompy) (1.16.0)\nRequirement already satisfied: pyarrow>=6.0.1 in /databricks/python3/lib/python3.10/site-packages (from triad>=0.9.3->fugue<=0.8.7,>=0.8.7->datacompy) (8.0.0)\nRequirement already satisfied: fsspec>=2022.5.0 in /local_disk0/.ephemeral_nfs/envs/pythonEnv-65c6d297-87ea-49f8-9645-da6ec02f8521/lib/python3.10/site-packages (from triad>=0.9.3->fugue<=0.8.7,>=0.8.7->datacompy) (2024.5.0)\nRequirement already satisfied: fs in /local_disk0/.ephemeral_nfs/envs/pythonEnv-65c6d297-87ea-49f8-9645-da6ec02f8521/lib/python3.10/site-packages (from triad>=0.9.3->fugue<=0.8.7,>=0.8.7->datacompy) (2.4.16)\nRequirement already satisfied: MarkupSafe>=2.0 in /databricks/python3/lib/python3.10/site-packages (from jinja2->fugue<=0.8.7,>=0.8.7->datacompy) (2.1.1)\nRequirement already satisfied: appdirs~=1.4.3 in /local_disk0/.ephemeral_nfs/envs/pythonEnv-65c6d297-87ea-49f8-9645-da6ec02f8521/lib/python3.10/site-packages (from fs->triad>=0.9.3->fugue<=0.8.7,>=0.8.7->datacompy) (1.4.4)\nRequirement already satisfied: setuptools in /databricks/python3/lib/python3.10/site-packages (from fs->triad>=0.9.3->fugue<=0.8.7,>=0.8.7->datacompy) (65.6.3)\nRequirement already satisfied: fpdf in /local_disk0/.ephemeral_nfs/envs/pythonEnv-65c6d297-87ea-49f8-9645-da6ec02f8521/lib/python3.10/site-packages (1.7.2)\nRequirement already satisfied: openpyxl in /local_disk0/.ephemeral_nfs/envs/pythonEnv-65c6d297-87ea-49f8-9645-da6ec02f8521/lib/python3.10/site-packages (3.1.2)\nRequirement already satisfied: et-xmlfile in /local_disk0/.ephemeral_nfs/envs/pythonEnv-65c6d297-87ea-49f8-9645-da6ec02f8521/lib/python3.10/site-packages (from openpyxl) (1.1.0)\nRequirement already satisfied: fsspec in /local_disk0/.ephemeral_nfs/envs/pythonEnv-65c6d297-87ea-49f8-9645-da6ec02f8521/lib/python3.10/site-packages (2024.5.0)\nRequirement already satisfied: pretty-html-table in /local_disk0/.ephemeral_nfs/envs/pythonEnv-65c6d297-87ea-49f8-9645-da6ec02f8521/lib/python3.10/site-packages (0.9.16)\nRequirement already satisfied: pandas in /databricks/python3/lib/python3.10/site-packages (from pretty-html-table) (1.5.3)\nRequirement already satisfied: python-dateutil>=2.8.1 in /databricks/python3/lib/python3.10/site-packages (from pandas->pretty-html-table) (2.8.2)\nRequirement already satisfied: pytz>=2020.1 in /databricks/python3/lib/python3.10/site-packages (from pandas->pretty-html-table) (2022.7)\nRequirement already satisfied: numpy>=1.21.0 in /databricks/python3/lib/python3.10/site-packages (from pandas->pretty-html-table) (1.23.5)\nRequirement already satisfied: six>=1.5 in /usr/lib/python3/dist-packages (from python-dateutil>=2.8.1->pandas->pretty-html-table) (1.16.0)\nRequirement already satisfied: tabulate in /local_disk0/.ephemeral_nfs/envs/pythonEnv-65c6d297-87ea-49f8-9645-da6ec02f8521/lib/python3.10/site-packages (0.9.0)\nRequirement already satisfied: cryptography in /local_disk0/.ephemeral_nfs/envs/pythonEnv-65c6d297-87ea-49f8-9645-da6ec02f8521/lib/python3.10/site-packages (42.0.7)\nRequirement already satisfied: cffi>=1.12 in /databricks/python3/lib/python3.10/site-packages (from cryptography) (1.15.1)\nRequirement already satisfied: pycparser in /databricks/python3/lib/python3.10/site-packages (from cffi>=1.12->cryptography) (2.21)\nRequirement already satisfied: Wand in /local_disk0/.ephemeral_nfs/envs/pythonEnv-65c6d297-87ea-49f8-9645-da6ec02f8521/lib/python3.10/site-packages (0.6.13)\n"
     ]
    }
   ],
   "source": [
    "%sh\n",
    "pip install --upgrade pip\n",
    "sh /Workspace/Repos/sahil.gupta@tigeranalytics.com/QE_ATF/datf_core/scripts/install.sh"
   ]
  },
  {
   "cell_type": "code",
   "execution_count": 0,
   "metadata": {
    "application/vnd.databricks.v1+cell": {
     "cellMetadata": {
      "byteLimit": 2048000,
      "rowLimit": 10000
     },
     "inputWidgets": {},
     "nuid": "91ca7d4a-e0da-43f1-a2ca-477a2f0ecf28",
     "showTitle": false,
     "title": ""
    }
   },
   "outputs": [],
   "source": [
    "import sys\n",
    "import os\n",
    "sys.path.append(os.path.abspath('..'))"
   ]
  },
  {
   "cell_type": "code",
   "execution_count": 0,
   "metadata": {
    "application/vnd.databricks.v1+cell": {
     "cellMetadata": {
      "byteLimit": 2048000,
      "rowLimit": 10000
     },
     "inputWidgets": {},
     "nuid": "894c466e-18a4-427e-b6c1-77e2cb7a782a",
     "showTitle": false,
     "title": ""
    }
   },
   "outputs": [],
   "source": [
    "dbutils.library.restartPython()"
   ]
  },
  {
   "cell_type": "code",
   "execution_count": 0,
   "metadata": {
    "application/vnd.databricks.v1+cell": {
     "cellMetadata": {
      "byteLimit": 2048000,
      "rowLimit": 10000
     },
     "inputWidgets": {},
     "nuid": "c2d4cbb8-031c-4097-8da2-04913eec799f",
     "showTitle": false,
     "title": ""
    }
   },
   "outputs": [
    {
     "output_type": "stream",
     "name": "stdout",
     "output_type": "stream",
     "text": [
      "INFO [17-May-2024_08:23:48_UTC]: <pyspark.sql.session.SparkSession object at 0x7f1f37f27df0>\nINFO [17-May-2024_08:23:48_UTC]: Protocol Config path :/Workspace/Repos/sahil.gupta@tigeranalytics.com/QE_ATF/datf_core/test/testprotocol/testprotocol.xlsx\nINFO [17-May-2024_08:23:48_UTC]: TestType: duplicate\nINFO [17-May-2024_08:23:48_UTC]: TestCasesRunList: ['testcase24_snowflake_snowflake_etljob']\nINFO [17-May-2024_08:23:48_UTC]: Protocol Execution Started\nINFO [17-May-2024_08:23:48_UTC]: Reading the Protocol file details from /Workspace/Repos/sahil.gupta@tigeranalytics.com/QE_ATF/datf_core/test/testprotocol/testprotocol.xlsx\nINFO [17-May-2024_08:23:48_UTC]: dict protocol is\nINFO [17-May-2024_08:23:48_UTC]: {'protocol_name': 'DATFDemo', 'protocol_connection': 'multiple', 'protocol_results_path': 'test/results/', 'protocol_application_name': 'sample', 'protocol_run_environment': 'dev', 'protocol_version': 2, 'test_run_environment': ''}\nINFO [17-May-2024_08:23:48_UTC]: Protocol Result folder Path: /Workspace/Repos/sahil.gupta@tigeranalytics.com/QE_ATF/datf_core/test/results/DATFDemo/run_duplicate_17_May_2024_08_23_48_UTC/\nINFO [17-May-2024_08:23:48_UTC]: Protocol Testcases Execution Started\nINFO [17-May-2024_08:23:48_UTC]: Test Case(s) part of current execution are:\n['testcase24_snowflake_snowflake_etljob']\nINFO [17-May-2024_08:23:48_UTC]: testcase1_parquet_parquet_mismatch: Testcase Picked up for Execution\nINFO [17-May-2024_08:23:48_UTC]: The Test Case No.1 is not in run_test_cases param, skipping its execution\nINFO [17-May-2024_08:23:48_UTC]: testcase2_parquet_parquet_match: Testcase Picked up for Execution\nINFO [17-May-2024_08:23:48_UTC]: The Test Case No.2 is not in run_test_cases param, skipping its execution\nINFO [17-May-2024_08:23:48_UTC]: testcase3_csv_csv_match: Testcase Picked up for Execution\nINFO [17-May-2024_08:23:48_UTC]: The Test Case No.3 is not in run_test_cases param, skipping its execution\nINFO [17-May-2024_08:23:48_UTC]: testcase4_csv_csv_mismatch: Testcase Picked up for Execution\nINFO [17-May-2024_08:23:48_UTC]: The Test Case No.4 is not in run_test_cases param, skipping its execution\nINFO [17-May-2024_08:23:48_UTC]: testcase5_csv_parquet_match: Testcase Picked up for Execution\nINFO [17-May-2024_08:23:48_UTC]: The Test Case No.5 is not in run_test_cases param, skipping its execution\nINFO [17-May-2024_08:23:48_UTC]: testcase6_csv_parquet_mismatch: Testcase Picked up for Execution\nINFO [17-May-2024_08:23:48_UTC]: The Test Case No.6 is not in run_test_cases param, skipping its execution\nINFO [17-May-2024_08:23:48_UTC]: testcase7_json_json_mismatch: Testcase Picked up for Execution\nINFO [17-May-2024_08:23:48_UTC]: The Test Case No.7 is not in run_test_cases param, skipping its execution\nINFO [17-May-2024_08:23:48_UTC]: testcase8_json_json_match: Testcase Picked up for Execution\nINFO [17-May-2024_08:23:48_UTC]: The Test Case No.8 is not in run_test_cases param, skipping its execution\nINFO [17-May-2024_08:23:48_UTC]: testcase9_json_parquet_match: Testcase Picked up for Execution\nINFO [17-May-2024_08:23:48_UTC]: The Test Case No.9 is not in run_test_cases param, skipping its execution\nINFO [17-May-2024_08:23:48_UTC]: testcase10_json_parquet_mismatch: Testcase Picked up for Execution\nINFO [17-May-2024_08:23:48_UTC]: The Test Case No.10 is not in run_test_cases param, skipping its execution\nINFO [17-May-2024_08:23:48_UTC]: testcase11_parquet_parquet_match_manual: Testcase Picked up for Execution\nINFO [17-May-2024_08:23:48_UTC]: The Test Case No.11 is not in run_test_cases param, skipping its execution\nINFO [17-May-2024_08:23:48_UTC]: testcase12_parquet_parquet_mismatch_manual: Testcase Picked up for Execution\nINFO [17-May-2024_08:23:48_UTC]: The Test Case No.12 is not in run_test_cases param, skipping its execution\nINFO [17-May-2024_08:23:48_UTC]: testcase13_csv_parquet_match_manuel: Testcase Picked up for Execution\nINFO [17-May-2024_08:23:48_UTC]: The Test Case No.13 is not in run_test_cases param, skipping its execution\nINFO [17-May-2024_08:23:48_UTC]: testcase14_csv_parquet_mismatch_manual: Testcase Picked up for Execution\nINFO [17-May-2024_08:23:48_UTC]: The Test Case No.14 is not in run_test_cases param, skipping its execution\nINFO [17-May-2024_08:23:48_UTC]: testcase15_parquet_parquet_match_likeobject: Testcase Picked up for Execution\nINFO [17-May-2024_08:23:48_UTC]: The Test Case No.15 is not in run_test_cases param, skipping its execution\nINFO [17-May-2024_08:23:48_UTC]: testcase16_parquet_parquet_mismatch_likeobject: Testcase Picked up for Execution\nINFO [17-May-2024_08:23:48_UTC]: The Test Case No.16 is not in run_test_cases param, skipping its execution\nINFO [17-May-2024_08:23:48_UTC]: testcase17_dbtable_dbtable_match_likeobject: Testcase Picked up for Execution\nINFO [17-May-2024_08:23:48_UTC]: The Test Case No.17 is not in run_test_cases param, skipping its execution\nINFO [17-May-2024_08:23:48_UTC]: testcase18_parquet_dbtable_match_likeobject: Testcase Picked up for Execution\nINFO [17-May-2024_08:23:48_UTC]: The Test Case No.18 is not in run_test_cases param, skipping its execution\nINFO [17-May-2024_08:23:48_UTC]: testcase19_oracle_mysql_match_manual: Testcase Picked up for Execution\nINFO [17-May-2024_08:23:48_UTC]: The Test Case No.19 is not in run_test_cases param, skipping its execution\nINFO [17-May-2024_08:23:48_UTC]: testcase20_oracle_bigquery_match_manual: Testcase Picked up for Execution\nINFO [17-May-2024_08:23:48_UTC]: The Test Case No.20 is not in run_test_cases param, skipping its execution\nINFO [17-May-2024_08:23:48_UTC]: testcase21_mysql_csv_match: Testcase Picked up for Execution\nINFO [17-May-2024_08:23:48_UTC]: The Test Case No.21 is not in run_test_cases param, skipping its execution\nINFO [17-May-2024_08:23:48_UTC]: testcase22_bigquery_mysql_match: Testcase Picked up for Execution\nINFO [17-May-2024_08:23:48_UTC]: The Test Case No.22 is not in run_test_cases param, skipping its execution\nINFO [17-May-2024_08:23:48_UTC]: testcase23_parquet_snowflake_mismatch: Testcase Picked up for Execution\nINFO [17-May-2024_08:23:48_UTC]: The Test Case No.23 is not in run_test_cases param, skipping its execution\nINFO [17-May-2024_08:23:48_UTC]: testcase24_snowflake_snowflake_etljob: Testcase Picked up for Execution\nINFO [17-May-2024_08:23:48_UTC]: testcase24_snowflake_snowflake_etljob: Reading Test Case Config at /Workspace/Repos/sahil.gupta@tigeranalytics.com/QE_ATF/datf_core/test/testcases/testcase24_snowflake_snowflake_etljob.xlsx\nINFO [17-May-2024_08:23:48_UTC]: testcase24_snowflake_snowflake_etljob: Reading Source and Target Data based on TestCase Configuration:  testcase24_snowflake_snowflake_etljob\n{'testcasename': 'testcase24_snowflake_snowflake_etljob', 'comparetype': 'likeobjectcompare', 'testquerygenerationmode': 'Auto', 'sourcealiasname': 'patientsrc', 'sourceconnectionname': 'raw_snowflake_sql_connection', 'sourceconnectiontype': 'snowflake', 'sourcefileformat': 'table', 'sourcefilepath': '', 'sourcefilename': 'SAMPLE_SRC_PATIENTS', 'sourcefilehasheader': '', 'sourcefiledelimiter': '', 'sourcefilter': '', 'sourceexcludecolumnlist': 'BIRTHDATE,DEATHDATE', 'sourcequerymode': '', 'sourcequerysqlpath': '', 'sourcequerysqlfilename': '', 'targetaliasname': 'patienttgt', 'targetconnectionname': 'raw_snowflake_sql_connection', 'targetconnectiontype': 'snowflake', 'targetfileformat': 'table', 'targetfilepath': '', 'targetfilename': 'SAMPLE_TGT_PATIENTS', 'targetfilehasheader': '', 'targetfiledelimiter': '', 'targetfilter': '', 'targetexcludecolumnlist': 'BIRTHDATE,DEATHDATE', 'targetquerymode': '', 'targetquerysqlpath': '', 'targetquerysqlfilename': '', 's2tpath': '', 's2tmappingsheet': 'source_to_target', 'primarykey': 'ID', 'samplelimit': 8}\nINFO [17-May-2024_08:23:48_UTC]: Sample limit is 8\nINFO [17-May-2024_08:23:48_UTC]: Reading the Source Data\nINFO [17-May-2024_08:23:48_UTC]: Inside read_data function\nINFO [17-May-2024_08:23:48_UTC]: Reading from Snowflake Warehouse\n{'connnectiontype': 'snowsqldatabase', 'connectname': 'pyspark_snowflake_connection', 'url': 'mtgtuvz-ptb76201.snowflakecomputing.com', 'user': 'tigergupta217', 'password': 'Root++0258', 'database': 'DATFDEMO', 'schema': 'TASFSCHEMA', 'warehouse': 'COMPUTE_WH', 'role': 'accountadmin'}\nroot\n |-- ADDRESS: string (nullable = true)\n |-- BIRTHPLACE: string (nullable = true)\n |-- CITY: string (nullable = true)\n |-- COUNTY: string (nullable = true)\n |-- DRIVERS: string (nullable = true)\n |-- ETHNICITY: string (nullable = true)\n |-- FIRST: string (nullable = true)\n |-- GENDER: string (nullable = true)\n |-- HEALTHCARE_COVERAGE: double (nullable = true)\n |-- HEALTHCARE_EXPENSES: double (nullable = true)\n |-- ID: string (nullable = true)\n |-- LAST: string (nullable = true)\n |-- LAT: double (nullable = true)\n |-- LON: double (nullable = true)\n |-- MAIDEN: string (nullable = true)\n |-- MARITAL: string (nullable = true)\n |-- PASSPORT: string (nullable = true)\n |-- PREFIX: string (nullable = true)\n |-- RACE: string (nullable = true)\n |-- SSN: string (nullable = true)\n |-- STATE: string (nullable = true)\n |-- SUFFIX: string (nullable = true)\n |-- ZIP: string (nullable = true)\n\n+--------------------+--------------------+-----------+----------------+---------+-----------+---------------+------+-------------------+-------------------+--------------------+--------------+-----------+------------+-------------+-------+----------+------+-----+-----------+-------------+------+-----+\n|             ADDRESS|          BIRTHPLACE|       CITY|          COUNTY|  DRIVERS|  ETHNICITY|          FIRST|GENDER|HEALTHCARE_COVERAGE|HEALTHCARE_EXPENSES|                  ID|          LAST|        LAT|         LON|       MAIDEN|MARITAL|  PASSPORT|PREFIX| RACE|        SSN|        STATE|SUFFIX|  ZIP|\n+--------------------+--------------------+-----------+----------------+---------+-----------+---------------+------+-------------------+-------------------+--------------------+--------------+-----------+------------+-------------+-------+----------+------+-----+-----------+-------------+------+-----+\n|427 Balistreri Wa...|Marigot  Saint An...|   Chicopee|  Hampden County|S99984236|   hispanic|José Eduardo181|     M|            1334.88|          271227.08|1d604da9-9a81-4ba...|      Gómez206|42.22835382|-72.56295055|         NULL|      M|X19277260X|   Mr.|white|999-76-6866|Massachusetts|  NULL|01013|\n|422 Farrell Path ...|Danvers  Massachu...| Somerville|Middlesex County|S99962402|nonhispanic|        Milo271|     M|            3204.49|          793946.01|034e9e3b-2def-455...|       Feil794|42.36069733|-71.12653095|         NULL|      M|X88275464X|   Mr.|white|999-73-5361|Massachusetts|  NULL|02143|\n|1056 Harris Lane ...|Springfield  Mass...|   Chicopee|  Hampden County|S99972682|nonhispanic|      Jayson808|     M|             2606.4|           574111.9|10339b10-3cd1-4ac...|      Fadel536| 42.1816423|-72.60884223|         NULL|      M|X73754411X|   Mr.|white|999-27-3385|Massachusetts|  NULL|01020|\n|      999 Kuhn Forge|Yarmouth  Massach...|     Lowell|Middlesex County|S99974448|nonhispanic|     Mariana775|     F|            8756.19|           935630.3|8d4c4326-e9de-4f4...| Rutherford999|42.63614335|-71.34325492|Williamson769|      M|X40915583X|  Mrs.|white|999-85-4926|Massachusetts|  NULL|01851|\n|1050 Lindgren Ext...|  Patras  Achaea  GR|     Boston|  Suffolk County|S99915787|nonhispanic|    Gregorio366|     M|             3772.2|          598763.07|f5dcd418-09fe-4a2...|        Auer97|42.35243426|-71.02861042|         NULL|   NULL|X86772962X|   Mr.|white|999-60-7372|Massachusetts|  NULL|02135|\n|888 Hickle Ferry ...|Beverly  Massachu...|Springfield|  Hampden County|     NULL|nonhispanic|     Jacinto644|     M|            1499.08|            8718.66|72c0b9ce-7aa4-430...|       Kris249|42.15196147| -72.5989594|         NULL|   NULL|      NULL|  NULL|white|999-68-6630|Massachusetts|  NULL|01106|\n|201 Mitchell Lodg...|Worcester  Massac...|   Pembroke| Plymouth County|S99954048|nonhispanic|       Jimmie93|     F|            3093.12|          397548.14|b1e9b0b9-da6e-4f6...|     Harris789|42.07529153|-70.75703466|         NULL|   NULL|      NULL|  NULL|white|999-73-2461|Massachusetts|  NULL| NULL|\n|570 Abshire Forge...|New Bedford  Mass...|    Colrain| Franklin County|     NULL|nonhispanic|       Karyn217|     F|             774.96|            26400.0|01207ecd-9dff-475...|    Mueller846|42.74021998|-72.72264768|         NULL|   NULL|      NULL|  NULL|white|999-81-4349|Massachusetts|  NULL| NULL|\n|335 Morar Highlan...|Santiago  Santiag...| Fall River|  Bristol County|S99978036|   hispanic|      Isabel214|     F|           14166.01|          987310.04|b58731cc-2d8b-4c2...|      Lucio648|41.68768445|-71.05576878|  Carvajal694|      M|X78170348X|  Mrs.|white|999-90-2484|Massachusetts|  NULL|02720|\n| 1048 Skiles Trailer|Boston  Massachus...|    Walpole|  Norfolk County|     NULL|nonhispanic|        Alva958|     F|            1599.08|           80155.36|cfee79fc-df05-476...|    Krajcik437|42.17737022|-71.28135316|         NULL|   NULL|      NULL|  NULL|white|999-15-5895|Massachusetts|  NULL|02081|\n|428 Wiza Glen Uni...|Plymouth  Massach...|Springfield|  Hampden County|     NULL|nonhispanic|     Jeffrey461|     M|            2816.48|          317164.78|ad2e9916-4979-40f...|Greenfelder433|42.10492711|-72.59101061|         NULL|   NULL|      NULL|  NULL|white|999-78-4480|Massachusetts|  NULL|01104|\n|181 Feest Passage...|Belmont  Massachu...|   Medfield|  Norfolk County|S99913545|nonhispanic|       Karyn217|     F|            6196.92|          700919.16|bfb6537b-535a-4f3...|       Jast432|42.13871939|-71.29725536|  Reynolds644|      M|X65838399X|  Mrs.|white|999-74-9712|Massachusetts|  NULL|02052|\n|118 Bailey Orchar...|Fall River  Massa...|    Needham|  Norfolk County|S99993444|nonhispanic|       Leann224|     F|             8624.6|          706612.59|83719bd7-7a41-4c8...|      Larson43|42.32074744|-71.23282935| Jaskolski867|      M|X19938368X|  Mrs.|white|999-24-1237|Massachusetts|  NULL| NULL|\n|1060 Hansen Overp...|Bellingham  Massa...|     Boston|  Suffolk County|S99957470|nonhispanic|    Christal240|     F|           11713.81|          779464.29|76982e06-f8b8-450...|       Brown30|42.28459847|-71.13449675|         NULL|      S|X55072337X|   Ms.|white|999-21-5604|Massachusetts|  NULL|02118|\n| 970 Grant Highlands|Watertown  Massac...| Foxborough|  Norfolk County|S99927965|nonhispanic|       Amada498|     F|           15959.85|         1368017.49|2ffe9369-24e4-414...|   Reichert620|42.07894173|-71.22544169|    Spinka232|      M|X70120330X|  Mrs.|white|999-76-2715|Massachusetts|  NULL| NULL|\n|585 Greenfelder Camp|Arlington  Massac...|     Quincy|  Norfolk County|S99983425|nonhispanic|        Raye931|     F|           11583.44|         1551125.51|e4f1bd35-93ae-418...|     Wunsch504|42.26651145|-70.95648012|         NULL|      S| X1708221X|   Ms.|white|999-66-4231|Massachusetts|  NULL|02169|\n|661 Schulist High...|Pembroke  Massach...|    Waltham|Middlesex County|S99917383|nonhispanic|      Anissa357|     F|           20739.93|         1388471.07|86b97fc7-ae8f-4e0...|    Wuckert783|42.42591517|-71.28867283|     Ebert178|      M|X23685647X|  Mrs.|white|999-59-1261|Massachusetts|  NULL|02452|\n|     383 Crooks Camp|Dedham  Massachus...|    Norwell| Plymouth County|S99916076|nonhispanic|      Edmund685|     M|            5545.28|         1412795.84|1c591f0d-95b1-428...|     Walker122|42.19224473|-70.83915436|         NULL|      M|X45594159X|   Mr.|white|999-88-9161|Massachusetts|  NULL| NULL|\n|1062 Conn Well Su...|Holyoke  Massachu...| Framingham|Middlesex County|S99927174|nonhispanic|       Danae973|     F|           17081.82|         1329466.45|f1678bde-4814-4d7...|  Bartoletti50|42.30967844|-71.42307309| Gleichner915|      M|X60264115X|  Mrs.|white|999-49-5916|Massachusetts|  NULL|01702|\n|      290 Hyatt Lane|Agawam  Massachus...|     Malden|Middlesex County|S99979946|nonhispanic|      Lisbeth69|     F|             7264.7|          853594.52|aac107d8-5187-420...|       Hand679|  42.414955|-71.06706632|    Durgan499|      M|X70531895X|  Mrs.|white|999-57-9112|Massachusetts|  NULL|02155|\n+--------------------+--------------------+-----------+----------------+---------+-----------+---------------+------+-------------------+-------------------+--------------------+--------------+-----------+------------+-------------+-------+----------+------+-----+-----------+-------------+------+-----+\nonly showing top 20 rows\n\nINFO [17-May-2024_08:23:50_UTC]: Returning the DataFrame from read_snowflakedata Function\nINFO [17-May-2024_08:23:50_UTC]: Reading the Target Data\nINFO [17-May-2024_08:23:50_UTC]: Inside read_data function\nINFO [17-May-2024_08:23:50_UTC]: Reading from Snowflake Warehouse\n{'connnectiontype': 'snowsqldatabase', 'connectname': 'pyspark_snowflake_connection', 'url': 'mtgtuvz-ptb76201.snowflakecomputing.com', 'user': 'tigergupta217', 'password': 'Root++0258', 'database': 'DATFDEMO', 'schema': 'TASFSCHEMA', 'warehouse': 'COMPUTE_WH', 'role': 'accountadmin'}\nroot\n |-- ADDRESS: string (nullable = true)\n |-- BIRTHPLACE: string (nullable = true)\n |-- CITY: string (nullable = true)\n |-- COUNTY: string (nullable = true)\n |-- DRIVERS: string (nullable = true)\n |-- ETHNICITY: string (nullable = true)\n |-- FIRST: string (nullable = true)\n |-- GENDER: string (nullable = true)\n |-- HEALTHCARE_COVERAGE: double (nullable = true)\n |-- HEALTHCARE_EXPENSES: double (nullable = true)\n |-- ID: string (nullable = true)\n |-- LAST: string (nullable = true)\n |-- LAT: double (nullable = true)\n |-- LON: double (nullable = true)\n |-- MAIDEN: string (nullable = true)\n |-- MARITAL: string (nullable = true)\n |-- PASSPORT: string (nullable = true)\n |-- PREFIX: string (nullable = true)\n |-- RACE: string (nullable = true)\n |-- SSN: string (nullable = true)\n |-- STATE: string (nullable = true)\n |-- SUFFIX: string (nullable = true)\n |-- ZIP: string (nullable = true)\n\n+--------------------+--------------------+-----------+----------------+---------+-----------+---------------+------+-------------------+-------------------+--------------------+--------------+-----------+------------+-------------+-------+----------+------+-----+-----------+-------------+------+----+\n|             ADDRESS|          BIRTHPLACE|       CITY|          COUNTY|  DRIVERS|  ETHNICITY|          FIRST|GENDER|HEALTHCARE_COVERAGE|HEALTHCARE_EXPENSES|                  ID|          LAST|        LAT|         LON|       MAIDEN|MARITAL|  PASSPORT|PREFIX| RACE|        SSN|        STATE|SUFFIX| ZIP|\n+--------------------+--------------------+-----------+----------------+---------+-----------+---------------+------+-------------------+-------------------+--------------------+--------------+-----------+------------+-------------+-------+----------+------+-----+-----------+-------------+------+----+\n|427 Balistreri Wa...|Marigot  Saint An...|   Chicopee|  Hampden County|S99984236|   hispanic|José Eduardo181|     M|            1334.88|          271227.08|1d604da9-9a81-4ba...|      Gómez206|42.22835382|-72.56295055|         NULL|   NULL|X19277260X|   Mr.|white|999-76-6866|Massachusetts|  NULL|1013|\n|422 Farrell Path ...|Danvers  Massachu...| Somerville|Middlesex County|S99962402|nonhispanic|        Milo271|     M|            3204.49|          793946.01|034e9e3b-2def-455...|       Feil794|42.36069733|-71.12653095|         NULL|   NULL|X88275464X|   Mr.|white|999-73-5361|Massachusetts|  NULL|2143|\n|1056 Harris Lane ...|Springfield  Mass...|   Chicopee|  Hampden County|S99972682|nonhispanic|      Jayson808|     M|             2606.4|           574111.9|10339b10-3cd1-4ac...|      Fadel536| 42.1816423|-72.60884223|         NULL|      M|X73754411X|   Mr.|white|999-27-3385|Massachusetts|  NULL|1020|\n|      999 Kuhn Forge|Yarmouth  Massach...|     Lowell|Middlesex County|S99974448|nonhispanic|     Mariana775|     F|            8756.19|           935630.3|8d4c4326-e9de-4f4...| Rutherford999|42.63614335|-71.34325492|Williamson769|      M|X40915583X|  Mrs.|white|999-85-4926|Massachusetts|  NULL|1851|\n|1050 Lindgren Ext...|  Patras  Achaea  GR|     Boston|  Suffolk County|S99915787|nonhispanic|    Gregorio366|     M|             3772.2|          598763.07|f5dcd418-09fe-4a2...|        Auer97|42.35243426|-71.02861042|         NULL|   NULL|X86772962X|   Mr.|white|999-60-7372|Massachusetts|  NULL|2135|\n|888 Hickle Ferry ...|Beverly  Massachu...|Springfield|  Hampden County|     NULL|nonhispanic|     Jacinto644|     M|            1499.08|            8718.66|72c0b9ce-7aa4-430...|       Kris249|42.15196147| -72.5989594|         NULL|   NULL|      NULL|  NULL|white|999-68-6630|Massachusetts|  NULL|1106|\n|201 Mitchell Lodg...|Worcester  Massac...|   Pembroke| Plymouth County|S99954048|nonhispanic|       Jimmie93|     F|            3093.12|          397548.14|b1e9b0b9-da6e-4f6...|     Harris789|42.07529153|-70.75703466|         NULL|   NULL|      NULL|  NULL|white|999-73-2461|Massachusetts|  NULL|NULL|\n|570 Abshire Forge...|New Bedford  Mass...|    Colrain| Franklin County|     NULL|nonhispanic|       Karyn217|     F|             774.96|            26400.0|01207ecd-9dff-475...|    Mueller846|42.74021998|-72.72264768|         NULL|   NULL|      NULL|  NULL|white|999-81-4349|Massachusetts|  NULL|NULL|\n|335 Morar Highlan...|Santiago  Santiag...| Fall River|  Bristol County|S99978036|   hispanic|      Isabel214|     F|           14166.01|          987310.04|b58731cc-2d8b-4c2...|      Lucio648|41.68768445|-71.05576878|  Carvajal694|      M|X78170348X|  Mrs.|white|999-90-2484|Massachusetts|  NULL|2720|\n| 1048 Skiles Trailer|Boston  Massachus...|    Walpole|  Norfolk County|     NULL|nonhispanic|        Alva958|     F|            1599.08|           80155.36|cfee79fc-df05-476...|    Krajcik437|42.17737022|-71.28135316|         NULL|   NULL|      NULL|  NULL|white|999-15-5895|Massachusetts|  NULL|2081|\n|428 Wiza Glen Uni...|Plymouth  Massach...|Springfield|  Hampden County|     NULL|nonhispanic|     Jeffrey461|     M|            2816.48|          317164.78|ad2e9916-4979-40f...|Greenfelder433|42.10492711|-72.59101061|         NULL|   NULL|      NULL|  NULL|white|999-78-4480|Massachusetts|  NULL|1104|\n|181 Feest Passage...|Belmont  Massachu...|   Medfield|  Norfolk County|S99913545|nonhispanic|       Karyn217|     F|            6196.92|          700919.16|bfb6537b-535a-4f3...|       Jast432|42.13871939|-71.29725536|  Reynolds644|      M|X65838399X|  Mrs.|white|999-74-9712|Massachusetts|  NULL|2052|\n|118 Bailey Orchar...|Fall River  Massa...|    Needham|  Norfolk County|S99993444|nonhispanic|       Leann224|     F|             8624.6|          706612.59|83719bd7-7a41-4c8...|      Larson43|42.32074744|-71.23282935| Jaskolski867|      M|X19938368X|  Mrs.|white|999-24-1237|Massachusetts|  NULL|NULL|\n|1060 Hansen Overp...|Bellingham  Massa...|     Boston|  Suffolk County|S99957470|nonhispanic|    Christal240|     F|           11713.81|          779464.29|76982e06-f8b8-450...|       Brown30|42.28459847|-71.13449675|         NULL|      S|X55072337X|   Ms.|white|999-21-5604|Massachusetts|  NULL|2118|\n| 970 Grant Highlands|Watertown  Massac...| Foxborough|  Norfolk County|S99927965|nonhispanic|       Amada498|     F|           15959.85|         1368017.49|2ffe9369-24e4-414...|   Reichert620|42.07894173|-71.22544169|    Spinka232|      M|X70120330X|  Mrs.|white|999-76-2715|Massachusetts|  NULL|NULL|\n|585 Greenfelder Camp|Arlington  Massac...|     Quincy|  Norfolk County|S99983425|nonhispanic|        Raye931|     F|           11583.44|         1551125.51|e4f1bd35-93ae-418...|     Wunsch504|42.26651145|-70.95648012|         NULL|      S| X1708221X|   Ms.|white|999-66-4231|Massachusetts|  NULL|2169|\n|661 Schulist High...|Pembroke  Massach...|    Waltham|Middlesex County|S99917383|nonhispanic|      Anissa357|     F|           20739.93|         1388471.07|86b97fc7-ae8f-4e0...|    Wuckert783|42.42591517|-71.28867283|     Ebert178|      M|X23685647X|  Mrs.|white|999-59-1261|Massachusetts|  NULL|2452|\n|     383 Crooks Camp|Dedham  Massachus...|    Norwell| Plymouth County|S99916076|nonhispanic|      Edmund685|     M|            5545.28|         1412795.84|1c591f0d-95b1-428...|     Walker122|42.19224473|-70.83915436|         NULL|      M|X45594159X|   Mr.|white|999-88-9161|Massachusetts|  NULL|NULL|\n|1062 Conn Well Su...|Holyoke  Massachu...| Framingham|Middlesex County|S99927174|nonhispanic|       Danae973|     F|           17081.82|         1329466.45|f1678bde-4814-4d7...|  Bartoletti50|42.30967844|-71.42307309| Gleichner915|      M|X60264115X|  Mrs.|white|999-49-5916|Massachusetts|  NULL|1702|\n|      290 Hyatt Lane|Agawam  Massachus...|     Malden|Middlesex County|S99979946|nonhispanic|      Lisbeth69|     F|             7264.7|          853594.52|aac107d8-5187-420...|       Hand679|  42.414955|-71.06706632|    Durgan499|      M|X70531895X|  Mrs.|white|999-57-9112|Massachusetts|  NULL|2155|\n+--------------------+--------------------+-----------+----------------+---------+-----------+---------------+------+-------------------+-------------------+--------------------+--------------+-----------+------------+-------------+-------+----------+------+-----+-----------+-------------+------+----+\nonly showing top 20 rows\n\nINFO [17-May-2024_08:23:52_UTC]: Returning the DataFrame from read_snowflakedata Function\nINFO [17-May-2024_08:23:52_UTC]: testcase24_snowflake_snowflake_etljob: Comparing Source and Target Data based on TestCase Configuration Started:  testcase24_snowflake_snowflake_etljob\nINFO [17-May-2024_08:23:52_UTC]: Data Compare Started for TestingType - duplicate \nINFO [17-May-2024_08:23:52_UTC]: Joining with column names: ['ID']\nCounting Source Rows now...\nCounting Target Rows now...\nINFO [17-May-2024_08:23:55_UTC]: Test Case Failed - duplicates found\nINFO [17-May-2024_08:23:55_UTC]: Data Compare Completed for TestingType - duplicate \nINFO [17-May-2024_08:23:55_UTC]: testcase24_snowflake_snowflake_etljob: Comparing Source and Target Data based on TestCase Configuration Completed for testcase24_snowflake_snowflake_etljob\nINFO [17-May-2024_08:23:55_UTC]: testcase24_snowflake_snowflake_etljob: Test Results PDF Generation for Test Case Started for testcase24_snowflake_snowflake_etljob\nINFO [17-May-2024_08:23:55_UTC]: testcase24_snowflake_snowflake_etljob: Testcase Results PDF for testcase24_snowflake_snowflake_etljob testcase is created at location:/Workspace/Repos/sahil.gupta@tigeranalytics.com/QE_ATF/datf_core/test/results/DATFDemo/run_duplicate_17_May_2024_08_23_48_UTC//run_testcase_summary_17_May_2024_08_23_48_UTC//testcase24_snowflake_snowflake_etljob_failed.pdf\nINFO [17-May-2024_08:23:55_UTC]: testcase24_snowflake_snowflake_etljob: TestCase Results PDF Generation for Test Case Completed:testcase24_snowflake_snowflake_etljob\nINFO [17-May-2024_08:23:55_UTC]: testcase24_snowflake_snowflake_etljob: TestCase Results of  testcase24_snowflake_snowflake_etljob are Appended to the Summary\nINFO [17-May-2024_08:23:55_UTC]: testcase24_snowflake_snowflake_etljob: Testcase Execution Completed for testcase24_snowflake_snowflake_etljob\nINFO [17-May-2024_08:23:55_UTC]: testcase25_oracle_oracle_etljob: Testcase Picked up for Execution\nINFO [17-May-2024_08:23:55_UTC]: The Test Case No.25 is not in run_test_cases param, skipping its execution\nINFO [17-May-2024_08:23:55_UTC]: testcase26_names_fullname_etljob: Testcase Picked up for Execution\nINFO [17-May-2024_08:23:55_UTC]: The Test Case No.26 is not in run_test_cases param, skipping its execution\nINFO [17-May-2024_08:23:55_UTC]: testcase27_csv_csv_bigdata_match: Testcase Picked up for Execution\nINFO [17-May-2024_08:23:55_UTC]: The Test Case No.27 is not in run_test_cases param, skipping its execution\nINFO [17-May-2024_08:23:55_UTC]: testcase28_manual_sql_notifications: Testcase Picked up for Execution\nINFO [17-May-2024_08:23:55_UTC]: The Test Case No.28 is not in run_test_cases param, skipping its execution\nINFO [17-May-2024_08:23:55_UTC]: testcase29_manual_sql_fullname: Testcase Picked up for Execution\nINFO [17-May-2024_08:23:55_UTC]: The Test Case No.29 is not in run_test_cases param, skipping its execution\nINFO [17-May-2024_08:23:55_UTC]: testcase30_csv_csv_3mill50cols_content: Testcase Picked up for Execution\nINFO [17-May-2024_08:23:55_UTC]: The Test Case No.30 is not in run_test_cases param, skipping its execution\nINFO [17-May-2024_08:23:55_UTC]: Combined Test Case PDF Generated\nINFO [17-May-2024_08:23:55_UTC]: Protocol DATFDemo executed in 0:00:07\nINFO [17-May-2024_08:23:56_UTC]: Protocol Summary PDF Generated\nINFO [17-May-2024_08:23:56_UTC]: Generating Charts and Trends from Results of the Protcol Execution\nINFO [17-May-2024_08:23:57_UTC]: Execution Data stored in DB successfully\nINFO [17-May-2024_08:23:57_UTC]: Data retrieved from DB successfully.\n+----+--------------------------+---------+----------+----------+-----------+\n|    | Created Time             |   Total |   Failed |   Passed |   Average |\n|----+--------------------------+---------+----------+----------+-----------|\n|  0 | 17_May_2024_08_23_48_UTC |       1 |        1 |        0 |      1.48 |\n|  1 | 17_May_2024_06_28_23_UTC |       1 |        1 |        0 |      1.48 |\n|  2 | 17_May_2024_06_20_21_UTC |       1 |        1 |        0 |      1.48 |\n|  3 | 17_May_2024_06_17_06_UTC |       1 |        1 |        0 |      1.48 |\n|  4 | 17_May_2024_06_08_37_UTC |       1 |        1 |        0 |      1.48 |\n|  5 | 16_May_2024_12_40_41_UTC |       1 |        1 |        0 |      1.48 |\n|  6 | 16_May_2024_12_01_00_UTC |       1 |        1 |        0 |      1.48 |\n|  7 | 15_May_2024_09_52_58_UTC |       1 |        1 |        0 |      1.48 |\n|  8 | 15_May_2024_09_41_43_UTC |       1 |        1 |        0 |      1.48 |\n|  9 | 15_May_2024_09_37_04_UTC |       1 |        1 |        0 |      1.48 |\n| 10 | 15_May_2024_09_24_20_UTC |       1 |        1 |        0 |      1.48 |\n| 11 | 27_Mar_2024_04_23_38_UTC |       2 |        0 |        2 |      2.95 |\n| 12 | 25_Mar_2024_16_03_36_UTC |       1 |        0 |        1 |      1.48 |\n| 13 | 25_Mar_2024_15_22_22_UTC |       1 |        0 |        1 |      1.48 |\n| 14 | 25_Mar_2024_13_37_17_UTC |       5 |        1 |        4 |      7.38 |\n| 15 | 21_Mar_2024_15_16_14_UTC |       2 |        1 |        1 |      2.95 |\n| 16 | 19_Mar_2024_08_17_36_UTC |       2 |        1 |        1 |      2.95 |\n| 17 | 05_Mar_2024_11_27_31_UTC |       1 |        0 |        1 |      1.48 |\n| 18 | 31_Jan_2024_17_58_24_UTC |       2 |        1 |        1 |      2.95 |\n| 19 | 30_Jan_2024_06_50_27_UTC |       2 |        1 |        1 |      2.95 |\n| 20 | 23_Jan_2024_14_33_34_UTC |       2 |        1 |        1 |      2.95 |\n| 21 | 23_Jan_2024_13_10_48_UTC |       1 |        0 |        1 |      1.48 |\n| 22 | 23_Jan_2024_12_41_19_UTC |       1 |        0 |        1 |      1.48 |\n| 23 | 23_Jan_2024_12_28_58_UTC |       6 |        2 |        4 |      8.86 |\n| 24 | 23_Jan_2024_12_18_02_UTC |       6 |        3 |        3 |      8.86 |\n| 25 | 18_Jan_2024_10_28_07_UTC |       1 |        1 |        0 |      1.48 |\n| 26 | 17_Jan_2024_13_16_49_UTC |       5 |        2 |        3 |      7.38 |\n| 27 | 17_Jan_2024_13_00_16_UTC |       3 |        1 |        2 |      4.43 |\n| 28 | 17_Jan_2024_12_46_32_UTC |       3 |        1 |        2 |      4.43 |\n| 29 | 17_Jan_2024_12_04_08_UTC |       3 |        1 |        2 |      4.43 |\n| 30 | 17_Jan_2024_11_50_05_UTC |       2 |        1 |        1 |      2.95 |\n| 31 | 17_Jan_2024_11_40_41_UTC |       2 |        2 |        0 |      2.95 |\n| 32 | 15_Jan_2024_13_17_18_UTC |       5 |        2 |        3 |      7.38 |\n| 33 | 15_Jan_2024_12_40_12_UTC |       2 |        1 |        1 |      2.95 |\n| 34 | 15_Jan_2024_10_07_33_UTC |       5 |        2 |        3 |      7.38 |\n| 35 | 15_Jan_2024_09_49_37_UTC |       5 |        2 |        3 |      7.38 |\n| 36 | 15_Jan_2024_09_45_05_UTC |       5 |        2 |        3 |      7.38 |\n| 37 | 15_Jan_2024_09_41_09_UTC |       5 |        1 |        4 |      7.38 |\n| 38 | 15_Jan_2024_09_36_26_UTC |       2 |        1 |        1 |      2.95 |\n| 39 | 15_Jan_2024_09_33_20_UTC |       2 |        1 |        1 |      2.95 |\n+----+--------------------------+---------+----------+----------+-----------+\nINFO [17-May-2024_08:23:57_UTC]: Data retrieved from DB successfully.\nINFO [17-May-2024_08:23:57_UTC]: Chart generated at: /Workspace/Repos/sahil.gupta@tigeranalytics.com/QE_ATF/datf_core/test/results/charts/chart_report_17_May_2024_08_23_48_UTC.html\nINFO [17-May-2024_08:23:58_UTC]: Trends generated at: /Workspace/Repos/sahil.gupta@tigeranalytics.com/QE_ATF/datf_core/test/results/trends/datf_trends_report.html\nINFO [17-May-2024_08:24:05_UTC]: HTML & PDF Reports copied over to: /Workspace/Repos/sahil.gupta@tigeranalytics.com/QE_ATF/datf_core/utils/reports\nINFO [17-May-2024_08:24:05_UTC]: Protocol Execution Completed\n"
     ]
    }
   ],
   "source": [
    "#python\n",
    "test_type = dbutils.widgets.get(\"test_type\")\n",
    "test_names = dbutils.widgets.get(\"test_names\")\n",
    "work_path = '/Workspace/Repos/sahil.gupta@tigeranalytics.com/QE_ATF/datf_core'\n",
    "py_file = f\"{work_path}/src/s2ttester.py\"\n",
    "%run $py_file $test_type $test_names"
   ]
  },
  {
   "cell_type": "code",
   "execution_count": 0,
   "metadata": {
    "application/vnd.databricks.v1+cell": {
     "cellMetadata": {
      "byteLimit": 2048000,
      "rowLimit": 10000
     },
     "inputWidgets": {},
     "nuid": "29a71df5-874a-44a8-bb1c-4afc5d87bb85",
     "showTitle": false,
     "title": ""
    }
   },
   "outputs": [
    {
     "output_type": "display_data",
     "data": {
      "text/html": [
       "\n",
       "        <html>\n",
       "        <head>\n",
       "            <title>DATF Test Run Report</title>\n",
       "            <style>\n",
       "                /* Define a CSS style for the headers */\n",
       "                h2, h3, h4 {\n",
       "                    font-size: 18px;\n",
       "                    font-family: Arial, sans-serif;\n",
       "                }\n",
       "                /* Style to display elements side by side */\n",
       "                .flex-container {\n",
       "                    display: flex;\n",
       "                    justify-content: space-between;\n",
       "                }\n",
       "\n",
       "            </style>\n",
       "\n",
       "        </head>\n",
       "        <body>\n",
       "            <h1>DATF Test Execution Summary</h1>\n",
       "            <div class=\"flex-container\">\n",
       "                <div>\n",
       "                    <h3><b>1. Overall Status</b></h3>\n",
       "                    <div>\n",
       "                        \n",
       "    <!DOCTYPE html>\n",
       "    <html>\n",
       "    <head>\n",
       "      <script type=\"text/javascript\" src=\"https://www.gstatic.com/charts/loader.js\"></script>\n",
       "      <script type=\"text/javascript\">\n",
       "        google.charts.load('current', { packages: ['corechart'] });\n",
       "        google.charts.setOnLoadCallback(drawChart);\n",
       "        \n",
       "            var pieChartData = [['Status', 'Count'], ['Failed', 1]]\n",
       "\n",
       "        function drawChart() {\n",
       "          // Drawing Pie Chart for Test Case Execution Results\n",
       "          var pieData = google.visualization.arrayToDataTable(pieChartData);       \n",
       "    \n",
       "          var pieOptions = {\n",
       "            title: 'Test Result Distribution',\n",
       "            is3D: true,\n",
       "            legend: 'none',\n",
       "                   colors:['red']\n",
       "\n",
       "          };\n",
       "\n",
       "          var pieChart = new google.visualization.PieChart(document.getElementById('pie_chart'));\n",
       "          pieChart.draw(pieData, pieOptions);\n",
       "        }\n",
       "      </script>\n",
       "    </head>\n",
       "    <body>\n",
       "      <div id=\"pie_chart\" style=\"width: 550px; height: 400px; display: inline-block;\"></div>\n",
       "    </body>\n",
       "    </html>\n",
       "      <!-- Embed the pie chart here -->\n",
       "                    </div>\n",
       "                </div>\n",
       "                <div>\n",
       "                    <h3><b>2. Duration Summary</b></h3>\n",
       "                    \n",
       "    <!DOCTYPE html>\n",
       "    <html>\n",
       "    <head>\n",
       "      <script type=\"text/javascript\" src=\"https://www.gstatic.com/charts/loader.js\"></script>\n",
       "      <script type=\"text/javascript\">\n",
       "        google.charts.load('current', {'packages':['corechart']});\n",
       "        google.charts.setOnLoadCallback(drawCharts);\n",
       "\n",
       "        function drawCharts() {\n",
       "          // Drawing Bar Chart for Test Case Execution Time Intervals\n",
       "          var timeData = new google.visualization.DataTable();\n",
       "          timeData.addColumn('string', 'Time Intervals');\n",
       "          timeData.addColumn('number', 'Number of Test Cases');\n",
       "          timeData.addColumn({type: 'string', role: 'tooltip', 'p': {'html': true}});\n",
       "\n",
       "          timeData.addRows([\n",
       "            ['0s-45s', 1, 'testcase24_snowflake_snowflake_etljob'],\n",
       "        ['45s-2m', 0, 'No test cases'],\n",
       "        ['2m-5m', 0, 'No test cases'],\n",
       "        ['5m+', 0, 'No test cases'],\n",
       "\n",
       "          ]);\n",
       "\n",
       "          var timeOptions = {\n",
       "            title: 'Test Execution Time Intervals',\n",
       "            legend: {position: 'none'},\n",
       "            hAxis: {\n",
       "              title: 'Number of Test Cases',\n",
       "              minValue: 0,\n",
       "            },\n",
       "            vAxis: {\n",
       "              title: 'Time Intervals',\n",
       "              textStyle: { fontSize: 12 }\n",
       "            },\n",
       "            tooltip: { isHtml: true }\n",
       "          };\n",
       "\n",
       "          var timeChart = new google.visualization.BarChart(document.getElementById('time_chart'));\n",
       "          timeChart.draw(timeData, timeOptions);\n",
       "        }\n",
       "      </script>\n",
       "    </head>\n",
       "    <body>\n",
       "      <div id=\"time_chart\" style=\"width: 550px; height: 400px; display: inline-block;\"></div>\n",
       "    </body>\n",
       "    </html>\n",
       "      <!-- Include the duration chart here -->\n",
       "                </div>\n",
       "            </div>\n",
       "            <h2><b>2. Protocol Test Results</b></h2>\n",
       "            <p><table class=\"dataframe\">\n",
       "  <thead>\n",
       "    <tr style=\"text-align: right;\">\n",
       "      <th style = \"background-color: #C65911;font-family: Century Gothic, sans-serif;font-size: medium;color: #FFFFFF;text-align: left;border-bottom: 2px solid #C65911;padding: 0px 20px 0px 0px;width: auto\">Testcase Name</th>\n",
       "      <th style = \"background-color: #C65911;font-family: Century Gothic, sans-serif;font-size: medium;color: #FFFFFF;text-align: left;border-bottom: 2px solid #C65911;padding: 0px 20px 0px 0px;width: auto\">No. of Rows in Source</th>\n",
       "      <th style = \"background-color: #C65911;font-family: Century Gothic, sans-serif;font-size: medium;color: #FFFFFF;text-align: left;border-bottom: 2px solid #C65911;padding: 0px 20px 0px 0px;width: auto\">No. of Distinct Rows in Source</th>\n",
       "      <th style = \"background-color: #C65911;font-family: Century Gothic, sans-serif;font-size: medium;color: #FFFFFF;text-align: left;border-bottom: 2px solid #C65911;padding: 0px 20px 0px 0px;width: auto\">No. of Rows in Target</th>\n",
       "      <th style = \"background-color: #C65911;font-family: Century Gothic, sans-serif;font-size: medium;color: #FFFFFF;text-align: left;border-bottom: 2px solid #C65911;padding: 0px 20px 0px 0px;width: auto\">No. of Distinct Rows in Target</th>\n",
       "      <th style = \"background-color: #C65911;font-family: Century Gothic, sans-serif;font-size: medium;color: #FFFFFF;text-align: left;border-bottom: 2px solid #C65911;padding: 0px 20px 0px 0px;width: auto\">Test Result</th>\n",
       "      <th style = \"background-color: #C65911;font-family: Century Gothic, sans-serif;font-size: medium;color: #FFFFFF;text-align: left;border-bottom: 2px solid #C65911;padding: 0px 20px 0px 0px;width: auto\">Reason</th>\n",
       "      <th style = \"background-color: #C65911;font-family: Century Gothic, sans-serif;font-size: medium;color: #FFFFFF;text-align: left;border-bottom: 2px solid #C65911;padding: 0px 20px 0px 0px;width: auto\">Runtime</th>\n",
       "    </tr>\n",
       "  </thead>\n",
       "  <tbody>\n",
       "    <tr>\n",
       "      <td style = \"background-color: #FCE4D6;font-family: Century Gothic, sans-serif;font-size: medium;text-align: left;padding: 0px 20px 0px 0px;width: auto\">testcase24_snowflake_snowflake_etljob</td>\n",
       "      <td style = \"background-color: #FCE4D6;font-family: Century Gothic, sans-serif;font-size: medium;text-align: left;padding: 0px 20px 0px 0px;width: auto\">1,171</td>\n",
       "      <td style = \"background-color: #FCE4D6;font-family: Century Gothic, sans-serif;font-size: medium;text-align: left;padding: 0px 20px 0px 0px;width: auto\">1,171</td>\n",
       "      <td style = \"background-color: #FCE4D6;font-family: Century Gothic, sans-serif;font-size: medium;text-align: left;padding: 0px 20px 0px 0px;width: auto\">1,169</td>\n",
       "      <td style = \"background-color: #FCE4D6;font-family: Century Gothic, sans-serif;font-size: medium;text-align: left;padding: 0px 20px 0px 0px;width: auto\">1,169</td>\n",
       "      <td style = \"background-color: #FCE4D6;font-family: Century Gothic, sans-serif;font-size: medium;text-align: left;padding: 0px 20px 0px 0px;width: auto\">Failed</td>\n",
       "      <td style = \"background-color: #FCE4D6;font-family: Century Gothic, sans-serif;font-size: medium;text-align: left;padding: 0px 20px 0px 0px;width: auto\">Duplicates</td>\n",
       "      <td style = \"background-color: #FCE4D6;font-family: Century Gothic, sans-serif;font-size: medium;text-align: left;padding: 0px 20px 0px 0px;width: auto\">0:00:06</td>\n",
       "    </tr>\n",
       "  </tbody>\n",
       "</table></p>\n",
       "            <h2><b>3. Protocol Run Details</b></h2>\n",
       "            <p><span style='font-weight:bold'>Application Name</span><span class='tab'></span>: sample<br><span style='font-weight:bold'>Test Protocol Name</span><span class='tab'></span>: DATFDemo<br><span style='font-weight:bold'>Test Protocol Version</span><span class='tab'></span>: 2<br><span style='font-weight:bold'>Test Environment</span><span class='tab'></span>: dev<br><span style='font-weight:bold'>Test Protocol Start Time</span><span class='tab'></span>: 17-May-2024 08:23:48 UTC<br><span style='font-weight:bold'>Test Protocol End Time</span><span class='tab'></span>: 17-May-2024 08:23:55 UTC<br><span style='font-weight:bold'>Total Protocol Run Time</span><span class='tab'></span>: 0:00:07<br><span style='font-weight:bold'>Total No of Test Cases</span><span class='tab'></span>: 1<br><span style='font-weight:bold'>No of Test Cases Passed</span><span class='tab'></span>: 0<br><span style='font-weight:bold'>No of Test Cases Failed</span><span class='tab'></span>: 1<br></p>\n",
       "            <h2><b>4. Protocol Run Parameters</b></h2>\n",
       "            <p><span style='font-weight:bold'>Protocol File Path</span><span class='tab'></span>: /Workspace/Repos/sahil.gupta@tigeranalytics.com/QE_ATF/datf_core/test/testprotocol/testprotocol.xlsx<br><span style='font-weight:bold'>Testcase Type</span><span class='tab'></span>: duplicate<br></p>\n",
       "           \n",
       "        </body>\n",
       "        </html>\n",
       "    "
      ]
     },
     "metadata": {},
     "output_type": "display_data"
    }
   ],
   "source": [
    "work_path = '/Workspace/Repos/sahil.gupta@tigeranalytics.com/QE_ATF/datf_core'\n",
    "html_file_content = open(f\"{work_path}/utils/reports/datfreport.html\", 'r').read()\n",
    "displayHTML(html_file_content)"
   ]
  },
  {
   "cell_type": "code",
   "execution_count": 0,
   "metadata": {
    "application/vnd.databricks.v1+cell": {
     "cellMetadata": {
      "byteLimit": 2048000,
      "rowLimit": 10000
     },
     "inputWidgets": {},
     "nuid": "0a30d972-6659-4eba-9f57-7e31ea639b77",
     "showTitle": false,
     "title": ""
    }
   },
   "outputs": [
    {
     "output_type": "display_data",
     "data": {
      "text/html": [
       "\n",
       "    <!DOCTYPE html>\n",
       "    <html>\n",
       "    <head>\n",
       "      <title>Historical Trends Dashboard</title>\n",
       "      <script type=\"text/javascript\" src=\"https://www.gstatic.com/charts/loader.js\"></script>\n",
       "    </head>\n",
       "    <body>    \n",
       "    \n",
       "      <h2>1. Historical Trends Graph (Last 40 Runs)</h2>\n",
       "      <div id=\"trends_chart\"></div>\n",
       "      \n",
       "        <script type=\"text/javascript\">\n",
       "            google.charts.load('current', { packages: ['corechart'], callback: drawTrends });\n",
       "            \n",
       "            var trendsData = [['17_May_2024_08_23_48_UTC', 1, 1, 0, 1.48], ['17_May_2024_06_28_23_UTC', 1, 1, 0, 1.48], ['17_May_2024_06_20_21_UTC', 1, 1, 0, 1.48], ['17_May_2024_06_17_06_UTC', 1, 1, 0, 1.48], ['17_May_2024_06_08_37_UTC', 1, 1, 0, 1.48], ['16_May_2024_12_40_41_UTC', 1, 1, 0, 1.48], ['16_May_2024_12_01_00_UTC', 1, 1, 0, 1.48], ['15_May_2024_09_52_58_UTC', 1, 1, 0, 1.48], ['15_May_2024_09_41_43_UTC', 1, 1, 0, 1.48], ['15_May_2024_09_37_04_UTC', 1, 1, 0, 1.48], ['15_May_2024_09_24_20_UTC', 1, 1, 0, 1.48], ['27_Mar_2024_04_23_38_UTC', 2, 0, 2, 2.95], ['25_Mar_2024_16_03_36_UTC', 1, 0, 1, 1.48], ['25_Mar_2024_15_22_22_UTC', 1, 0, 1, 1.48], ['25_Mar_2024_13_37_17_UTC', 5, 1, 4, 7.38], ['21_Mar_2024_15_16_14_UTC', 2, 1, 1, 2.95], ['19_Mar_2024_08_17_36_UTC', 2, 1, 1, 2.95], ['05_Mar_2024_11_27_31_UTC', 1, 0, 1, 1.48], ['31_Jan_2024_17_58_24_UTC', 2, 1, 1, 2.95], ['30_Jan_2024_06_50_27_UTC', 2, 1, 1, 2.95], ['23_Jan_2024_14_33_34_UTC', 2, 1, 1, 2.95], ['23_Jan_2024_13_10_48_UTC', 1, 0, 1, 1.48], ['23_Jan_2024_12_41_19_UTC', 1, 0, 1, 1.48], ['23_Jan_2024_12_28_58_UTC', 6, 2, 4, 8.86], ['23_Jan_2024_12_18_02_UTC', 6, 3, 3, 8.86], ['18_Jan_2024_10_28_07_UTC', 1, 1, 0, 1.48], ['17_Jan_2024_13_16_49_UTC', 5, 2, 3, 7.38], ['17_Jan_2024_13_00_16_UTC', 3, 1, 2, 4.43], ['17_Jan_2024_12_46_32_UTC', 3, 1, 2, 4.43], ['17_Jan_2024_12_04_08_UTC', 3, 1, 2, 4.43], ['17_Jan_2024_11_50_05_UTC', 2, 1, 1, 2.95], ['17_Jan_2024_11_40_41_UTC', 2, 2, 0, 2.95], ['15_Jan_2024_13_17_18_UTC', 5, 2, 3, 7.38], ['15_Jan_2024_12_40_12_UTC', 2, 1, 1, 2.95], ['15_Jan_2024_10_07_33_UTC', 5, 2, 3, 7.38], ['15_Jan_2024_09_49_37_UTC', 5, 2, 3, 7.38], ['15_Jan_2024_09_45_05_UTC', 5, 2, 3, 7.38], ['15_Jan_2024_09_41_09_UTC', 5, 1, 4, 7.38], ['15_Jan_2024_09_36_26_UTC', 2, 1, 1, 2.95], ['15_Jan_2024_09_33_20_UTC', 2, 1, 1, 2.95]]\n",
       "            function drawTrends() {\n",
       "                var data = google.visualization.arrayToDataTable([\n",
       "                ['Created Time', 'Total', 'Failed', 'Passed', 'Average'],\n",
       "                ...trendsData\n",
       "                ]);\n",
       "                \n",
       "                var options = {\n",
       "                    vAxis: {title: 'Results'},\n",
       "                    hAxis: {title: 'Timeline'},\n",
       "                    legend: {position: 'bottom', alignment: 'center', maxLines: 1},\n",
       "                    isStacked: true,\n",
       "                    seriesType: 'bars',\n",
       "                    series: {3: {type: 'line', curveType: 'function'}}\n",
       "                };\n",
       "                \n",
       "                var chart = new google.visualization.ComboChart(document.getElementById('trends_chart'));\n",
       "                chart.draw(data, options);\n",
       "            }\n",
       "        </script>\n",
       "    \n",
       "      <h2>2. No. of Test Cases Executed (All Time)</h2>\n",
       "      <div>\n",
       "        <label for=\"filter\">Test Case Type Filter:</label>\n",
       "        <select id=\"filter\" onchange=\"updateGraph()\">\n",
       "          <option value=\"count\">Counting Rows</option>\n",
       "          <option value=\"duplicate\">Finding Duplicates</option>\n",
       "          <option value=\"content\">Matching Contents</option>\n",
       "        </select>\n",
       "      </div>\n",
       "      <div id=\"chart_div\"></div>\n",
       "\n",
       "      <script type=\"text/javascript\">\n",
       "        google.charts.load('current', { packages: ['corechart'], callback: drawChart });\n",
       "\n",
       "        var countData = [['Failed', 28, 'color:#DD4477'], ['Passed', 44, 'color:#329262']];\n",
       "        var duplicateData = [['Failed', 21, 'color:#DD4477'], ['Passed', 33, 'color:#329262']];\n",
       "        var contentData = [['Failed', 18, 'color:#DD4477'], ['Passed', 10, 'color:#329262']];\n",
       "\n",
       "        function drawChart() {\n",
       "          var data = google.visualization.arrayToDataTable([\n",
       "            ['Test Result', 'Count', {role:'style'}],\n",
       "            ...countData\n",
       "          ]);\n",
       "\n",
       "          var options = {\n",
       "            title: 'Bar Graph based on Filter',\n",
       "            legend: {position: 'none'},\n",
       "            hAxis: {minValue: 0},\n",
       "            is3D: true,\n",
       "            // Other chart options\n",
       "          };\n",
       "\n",
       "          var chart = new google.visualization.BarChart(document.getElementById('chart_div'));\n",
       "          chart.draw(data, options);\n",
       "        }\n",
       "\n",
       "        function updateGraph() {\n",
       "          var selectedFilter = document.getElementById('filter').value;\n",
       "          var newData;\n",
       "\n",
       "          switch (selectedFilter) {\n",
       "            case 'count':\n",
       "              newData = countData;\n",
       "              break;\n",
       "            case 'duplicate':\n",
       "              newData = duplicateData;\n",
       "              break;\n",
       "            case 'content':\n",
       "              newData = contentData;\n",
       "              break;\n",
       "            default:\n",
       "              newData = countData;\n",
       "              break;\n",
       "          }\n",
       "\n",
       "          var data = google.visualization.arrayToDataTable([\n",
       "            ['Test Result', 'Count', {role:'style'}],\n",
       "            ...newData\n",
       "          ]);\n",
       "\n",
       "          var options = {\n",
       "            title: 'Bar Graph based on Filter',\n",
       "            legend: {position: 'none'},\n",
       "            hAxis: {minValue: 0},\n",
       "            is3D: true,\n",
       "            // Other chart options\n",
       "          };\n",
       "\n",
       "          var chart = new google.visualization.BarChart(document.getElementById('chart_div'));\n",
       "          chart.draw(data, options);\n",
       "        }\n",
       "      </script>\n",
       "    \n",
       "    </body>\n",
       "    </html>\n",
       "    "
      ]
     },
     "metadata": {},
     "output_type": "display_data"
    }
   ],
   "source": [
    "work_path = '/Workspace/Repos/sahil.gupta@tigeranalytics.com/QE_ATF/datf_core'\n",
    "html_file_content = open(f\"{work_path}/utils/reports/datf_trends_report.html\", 'r').read()\n",
    "displayHTML(html_file_content)"
   ]
  }
 ],
 "metadata": {
  "application/vnd.databricks.v1+notebook": {
   "dashboards": [],
   "environmentMetadata": null,
   "language": "python",
   "notebookMetadata": {
    "mostRecentlyExecutedCommandWithImplicitDF": {
     "commandId": 3526049979660982,
     "dataframes": [
      "_sqldf"
     ]
    },
    "pythonIndentUnit": 4
   },
   "notebookName": "DATF-Execution",
   "widgets": {
    "test_names": {
     "currentValue": "testcase24_snowflake_snowflake_etljob",
     "nuid": "74627b4a-88ee-47b6-a31c-3ca2e8aa9116",
     "typedWidgetInfo": null,
     "widgetInfo": {
      "widgetType": "text",
      "defaultValue": "testcase24_snowflake_snowflake_etljob",
      "label": null,
      "name": "test_names",
      "options": {
       "widgetType": "text",
       "autoCreated": null,
       "validationRegex": null
      }
     }
    },
    "test_type": {
     "currentValue": "duplicate",
     "nuid": "fa1aa8b7-7783-400b-bc06-9ecc827a2e75",
     "typedWidgetInfo": null,
     "widgetInfo": {
      "widgetType": "text",
      "defaultValue": "duplicate",
      "label": null,
      "name": "test_type",
      "options": {
       "widgetType": "text",
       "autoCreated": null,
       "validationRegex": null
      }
     }
    }
   }
  }
 },
 "nbformat": 4,
 "nbformat_minor": 0
}
