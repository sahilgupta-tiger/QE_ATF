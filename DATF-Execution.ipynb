{
 "cells": [
  {
   "cell_type": "code",
   "execution_count": 0,
   "metadata": {
    "application/vnd.databricks.v1+cell": {
     "cellMetadata": {
      "byteLimit": 2048000,
      "rowLimit": 10000
     },
     "inputWidgets": {},
     "nuid": "db2f7345-8158-4201-b528-563ffc0132b5",
     "showTitle": false,
     "title": ""
    }
   },
   "outputs": [],
   "source": [
    "dbutils.widgets.text('test_type', 'content')\n",
    "dbutils.widgets.text('test_names', 'testcase31_delta_parquet_manual')"
   ]
  },
  {
   "cell_type": "code",
   "execution_count": 0,
   "metadata": {
    "application/vnd.databricks.v1+cell": {
     "cellMetadata": {
      "byteLimit": 2048000,
      "rowLimit": 10000
     },
     "inputWidgets": {},
     "nuid": "32e7190d-f902-4107-b296-5ad0b7d4b5ad",
     "showTitle": false,
     "title": ""
    },
    "jupyter": {
     "outputs_hidden": true
    }
   },
   "outputs": [],
   "source": [
    "%sh\n",
    "pip install --upgrade pip\n",
    "sh /Workspace/Repos/sahil.gupta@tigeranalytics.com/QE_ATF/datf_core/scripts/install.sh"
   ]
  },
  {
   "cell_type": "code",
   "execution_count": 0,
   "metadata": {
    "application/vnd.databricks.v1+cell": {
     "cellMetadata": {
      "byteLimit": 2048000,
      "rowLimit": 10000
     },
     "inputWidgets": {},
     "nuid": "91ca7d4a-e0da-43f1-a2ca-477a2f0ecf28",
     "showTitle": false,
     "title": ""
    }
   },
   "outputs": [],
   "source": [
    "import sys\n",
    "import os\n",
    "sys.path.append(os.path.abspath('..'))"
   ]
  },
  {
   "cell_type": "code",
   "execution_count": 0,
   "metadata": {
    "application/vnd.databricks.v1+cell": {
     "cellMetadata": {
      "byteLimit": 2048000,
      "rowLimit": 10000
     },
     "inputWidgets": {},
     "nuid": "894c466e-18a4-427e-b6c1-77e2cb7a782a",
     "showTitle": false,
     "title": ""
    }
   },
   "outputs": [],
   "source": [
    "dbutils.library.restartPython()"
   ]
  },
  {
   "cell_type": "code",
   "execution_count": 0,
   "metadata": {
    "application/vnd.databricks.v1+cell": {
     "cellMetadata": {
      "byteLimit": 2048000,
      "rowLimit": 10000
     },
     "inputWidgets": {},
     "nuid": "c2d4cbb8-031c-4097-8da2-04913eec799f",
     "showTitle": false,
     "title": ""
    }
   },
   "outputs": [],
   "source": [
    "#python\n",
    "test_type = dbutils.widgets.get(\"test_type\")\n",
    "test_names = dbutils.widgets.get(\"test_names\")\n",
    "work_path = '/Workspace/Repos/sahil.gupta@tigeranalytics.com/QE_ATF/datf_core'\n",
    "py_file = f\"{work_path}/src/s2ttester.py\"\n",
    "%run $py_file $test_type $test_names"
   ]
  },
  {
   "cell_type": "code",
   "execution_count": 0,
   "metadata": {
    "application/vnd.databricks.v1+cell": {
     "cellMetadata": {
      "byteLimit": 2048000,
      "rowLimit": 10000
     },
     "inputWidgets": {},
     "nuid": "29a71df5-874a-44a8-bb1c-4afc5d87bb85",
     "showTitle": false,
     "title": ""
    }
   },
   "outputs": [],
   "source": [
    "work_path = '/Workspace/Repos/sahil.gupta@tigeranalytics.com/QE_ATF/datf_core'\n",
    "html_file_content = open(f\"{work_path}/utils/reports/datfreport.html\", 'r').read()\n",
    "displayHTML(html_file_content)"
   ]
  },
  {
   "cell_type": "code",
   "execution_count": 0,
   "metadata": {
    "application/vnd.databricks.v1+cell": {
     "cellMetadata": {
      "byteLimit": 2048000,
      "rowLimit": 10000
     },
     "inputWidgets": {},
     "nuid": "0a30d972-6659-4eba-9f57-7e31ea639b77",
     "showTitle": false,
     "title": ""
    }
   },
   "outputs": [],
   "source": [
    "work_path = '/Workspace/Repos/sahil.gupta@tigeranalytics.com/QE_ATF/datf_core'\n",
    "html_file_content = open(f\"{work_path}/utils/reports/datf_trends_report.html\", 'r').read()\n",
    "displayHTML(html_file_content)"
   ]
  }
 ],
 "metadata": {
  "application/vnd.databricks.v1+notebook": {
   "dashboards": [],
   "environmentMetadata": null,
   "language": "python",
   "notebookMetadata": {
    "mostRecentlyExecutedCommandWithImplicitDF": {
     "commandId": 1361428251672005,
     "dataframes": [
      "_sqldf"
     ]
    },
    "pythonIndentUnit": 4
   },
   "notebookName": "DATF-Execution",
   "widgets": {
    "test_names": {
     "currentValue": "testcase32_adls_parquet_to_delta_auto",
     "nuid": "74627b4a-88ee-47b6-a31c-3ca2e8aa9116",
     "typedWidgetInfo": {
      "autoCreated": false,
      "defaultValue": "testcase31_delta_parquet_manual",
      "label": null,
      "name": "test_names",
      "options": {
       "widgetDisplayType": "Text",
       "validationRegex": null
      },
      "parameterDataType": "String"
     },
     "widgetInfo": {
      "widgetType": "text",
      "defaultValue": "testcase31_delta_parquet_manual",
      "label": null,
      "name": "test_names",
      "options": {
       "widgetType": "text",
       "autoCreated": null,
       "validationRegex": null
      }
     }
    },
    "test_type": {
     "currentValue": "duplicate",
     "nuid": "fa1aa8b7-7783-400b-bc06-9ecc827a2e75",
     "typedWidgetInfo": {
      "autoCreated": false,
      "defaultValue": "content",
      "label": null,
      "name": "test_type",
      "options": {
       "widgetDisplayType": "Text",
       "validationRegex": null
      },
      "parameterDataType": "String"
     },
     "widgetInfo": {
      "widgetType": "text",
      "defaultValue": "content",
      "label": null,
      "name": "test_type",
      "options": {
       "widgetType": "text",
       "autoCreated": null,
       "validationRegex": null
      }
     }
    }
   }
  }
 },
 "nbformat": 4,
 "nbformat_minor": 0
}
