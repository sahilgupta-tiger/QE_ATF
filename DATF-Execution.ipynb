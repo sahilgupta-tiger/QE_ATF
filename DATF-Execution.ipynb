{
 "cells": [
  {
   "cell_type": "code",
   "execution_count": 0,
   "metadata": {
    "application/vnd.databricks.v1+cell": {
     "cellMetadata": {
      "byteLimit": 2048000,
      "rowLimit": 10000
     },
     "inputWidgets": {},
     "nuid": "db2f7345-8158-4201-b528-563ffc0132b5",
     "showTitle": false,
     "title": ""
    }
   },
   "outputs": [],
   "source": [
    "dbutils.widgets.text('test_type', 'content')\n",
    "dbutils.widgets.text('test_names', 'testcase24_snowflake_snowflake_etljob,testcase31_delta_parquet_manual')\n",
    "dbutils.widgets.text('work_path', '/Workspace/Repos/sahil.gupta@tigeranalytics.com/QE_ATF/datf_core/')"
   ]
  },
  {
   "cell_type": "code",
   "execution_count": 0,
   "metadata": {
    "application/vnd.databricks.v1+cell": {
     "cellMetadata": {
      "byteLimit": 2048000,
      "rowLimit": 10000
     },
     "inputWidgets": {},
     "nuid": "32e7190d-f902-4107-b296-5ad0b7d4b5ad",
     "showTitle": false,
     "title": ""
    }
   },
   "outputs": [],
   "source": [
    "%python\n",
    "import os\n",
    "os.environ['CWD'] = dbutils.widgets.get('work_path')\n",
    "\n",
    "!pip install --upgrade pip\n",
    "!$CWD/scripts/install.sh"
   ]
  },
  {
   "cell_type": "code",
   "execution_count": 0,
   "metadata": {
    "application/vnd.databricks.v1+cell": {
     "cellMetadata": {
      "byteLimit": 2048000,
      "rowLimit": 10000
     },
     "inputWidgets": {},
     "nuid": "91ca7d4a-e0da-43f1-a2ca-477a2f0ecf28",
     "showTitle": false,
     "title": ""
    }
   },
   "outputs": [],
   "source": [
    "import sys\n",
    "import os\n",
    "sys.path.append(os.path.abspath('..'))"
   ]
  },
  {
   "cell_type": "code",
   "execution_count": 0,
   "metadata": {
    "application/vnd.databricks.v1+cell": {
     "cellMetadata": {
      "byteLimit": 2048000,
      "rowLimit": 10000
     },
     "inputWidgets": {},
     "nuid": "894c466e-18a4-427e-b6c1-77e2cb7a782a",
     "showTitle": false,
     "title": ""
    }
   },
   "outputs": [],
   "source": [
    "dbutils.library.restartPython()"
   ]
  },
  {
   "cell_type": "code",
   "execution_count": 0,
   "metadata": {
    "application/vnd.databricks.v1+cell": {
     "cellMetadata": {
      "byteLimit": 2048000,
      "rowLimit": 10000
     },
     "inputWidgets": {},
     "nuid": "c2d4cbb8-031c-4097-8da2-04913eec799f",
     "showTitle": false,
     "title": ""
    }
   },
   "outputs": [],
   "source": [
    "#python\n",
    "import os\n",
    "work_path = dbutils.widgets.get(\"work_path\")\n",
    "os.environ['CWD'] = work_path\n",
    "py_file = f\"{work_path}src/s2ttester.py\"\n",
    "test_type = dbutils.widgets.get(\"test_type\")\n",
    "test_names = dbutils.widgets.get(\"test_names\")\n",
    "params = {\n",
    "    \"test_type\": test_type,\n",
    "    \"test_names\": test_names\n",
    "}\n",
    "protocol_file_path = f\"{work_path}test/testprotocol/testprotocol.xlsx\"\n",
    "print(f\"{py_file} {protocol_file_path} {test_type} {test_names}\")\n",
    "runner = f\"{py_file} {protocol_file_path} {test_type} {test_names}\"\n",
    "%run $runner"
   ]
  },
  {
   "cell_type": "code",
   "execution_count": 0,
   "metadata": {
    "application/vnd.databricks.v1+cell": {
     "cellMetadata": {
      "byteLimit": 2048000,
      "rowLimit": 10000
     },
     "inputWidgets": {},
     "nuid": "29a71df5-874a-44a8-bb1c-4afc5d87bb85",
     "showTitle": false,
     "title": ""
    }
   },
   "outputs": [],
   "source": [
    "work_path = dbutils.widgets.get(\"work_path\")\n",
    "html_file_content = open(f\"{work_path}/utils/reports/datfreport.html\", 'r').read()\n",
    "displayHTML(html_file_content)"
   ]
  },
  {
   "cell_type": "code",
   "execution_count": 0,
   "metadata": {
    "application/vnd.databricks.v1+cell": {
     "cellMetadata": {
      "byteLimit": 2048000,
      "rowLimit": 10000
     },
     "inputWidgets": {},
     "nuid": "0a30d972-6659-4eba-9f57-7e31ea639b77",
     "showTitle": false,
     "title": ""
    }
   },
   "outputs": [],
   "source": [
    "work_path = dbutils.widgets.get(\"work_path\")\n",
    "html_file_content = open(f\"{work_path}/utils/reports/datf_trends_report.html\", 'r').read()\n",
    "displayHTML(html_file_content)"
   ]
  }
 ],
 "metadata": {
  "application/vnd.databricks.v1+notebook": {
   "dashboards": [],
   "environmentMetadata": null,
   "language": "python",
   "notebookMetadata": {
    "mostRecentlyExecutedCommandWithImplicitDF": {
     "commandId": 2917062234747010,
     "dataframes": [
      "_sqldf"
     ]
    },
    "pythonIndentUnit": 4
   },
   "notebookName": "DATF-Execution",
   "widgets": {
    "test_names": {
     "currentValue": "testcase50_parquet_delta_match",
     "nuid": "1c1b79e6-1d06-424c-b753-a606cfc6bed3",
     "typedWidgetInfo": {
      "autoCreated": false,
      "defaultValue": "testcase24_snowflake_snowflake_etljob,testcase31_delta_parquet_manual",
      "label": null,
      "name": "test_names",
      "options": {
       "widgetDisplayType": "Text",
       "validationRegex": null
      },
      "parameterDataType": "String"
     },
     "widgetInfo": {
      "widgetType": "text",
      "defaultValue": "testcase24_snowflake_snowflake_etljob,testcase31_delta_parquet_manual",
      "label": null,
      "name": "test_names",
      "options": {
       "widgetType": "text",
       "autoCreated": null,
       "validationRegex": null
      }
     }
    },
    "test_type": {
     "currentValue": "duplicate",
     "nuid": "60db7945-6bb9-4483-9e64-646964cf5d0f",
     "typedWidgetInfo": {
      "autoCreated": false,
      "defaultValue": "content",
      "label": null,
      "name": "test_type",
      "options": {
       "widgetDisplayType": "Text",
       "validationRegex": null
      },
      "parameterDataType": "String"
     },
     "widgetInfo": {
      "widgetType": "text",
      "defaultValue": "content",
      "label": null,
      "name": "test_type",
      "options": {
       "widgetType": "text",
       "autoCreated": null,
       "validationRegex": null
      }
     }
    },
    "work_path": {
     "currentValue": "/Workspace/Repos/sahil.gupta@tigeranalytics.com/QE_ATF/datf_core/",
     "nuid": "b6d62351-0f9f-4463-87de-e4fa17e85f40",
     "typedWidgetInfo": {
      "autoCreated": false,
      "defaultValue": "/Workspace/Repos/sahil.gupta@tigeranalytics.com/QE_ATF/datf_core/",
      "label": null,
      "name": "work_path",
      "options": {
       "widgetDisplayType": "Text",
       "validationRegex": null
      },
      "parameterDataType": "String"
     },
     "widgetInfo": {
      "widgetType": "text",
      "defaultValue": "/Workspace/Repos/sahil.gupta@tigeranalytics.com/QE_ATF/datf_core/",
      "label": null,
      "name": "work_path",
      "options": {
       "widgetType": "text",
       "autoCreated": null,
       "validationRegex": null
      }
     }
    }
   }
  }
 },
 "nbformat": 4,
 "nbformat_minor": 0
}
